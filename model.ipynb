{
  "cells": [
    {
      "cell_type": "markdown",
      "metadata": {
        "id": "view-in-github",
        "colab_type": "text"
      },
      "source": [
        "<a href=\"https://colab.research.google.com/github/lmethratta/Poliscope/blob/main/model.ipynb\" target=\"_parent\"><img src=\"https://colab.research.google.com/assets/colab-badge.svg\" alt=\"Open In Colab\"/></a>"
      ]
    },
    {
      "cell_type": "code",
      "source": [
        "!pip install datasets transformers rank_bm25"
      ],
      "metadata": {
        "id": "bafN0lgvPKim",
        "outputId": "b0d7bc91-99a3-499d-c58b-bd39ad94cfea",
        "colab": {
          "base_uri": "https://localhost:8080/"
        }
      },
      "execution_count": 17,
      "outputs": [
        {
          "output_type": "stream",
          "name": "stdout",
          "text": [
            "Requirement already satisfied: datasets in /usr/local/lib/python3.11/dist-packages (3.5.0)\n",
            "Requirement already satisfied: transformers in /usr/local/lib/python3.11/dist-packages (4.51.1)\n",
            "Requirement already satisfied: rank_bm25 in /usr/local/lib/python3.11/dist-packages (0.2.2)\n",
            "Requirement already satisfied: filelock in /usr/local/lib/python3.11/dist-packages (from datasets) (3.18.0)\n",
            "Requirement already satisfied: numpy>=1.17 in /usr/local/lib/python3.11/dist-packages (from datasets) (2.0.2)\n",
            "Requirement already satisfied: pyarrow>=15.0.0 in /usr/local/lib/python3.11/dist-packages (from datasets) (18.1.0)\n",
            "Requirement already satisfied: dill<0.3.9,>=0.3.0 in /usr/local/lib/python3.11/dist-packages (from datasets) (0.3.8)\n",
            "Requirement already satisfied: pandas in /usr/local/lib/python3.11/dist-packages (from datasets) (2.2.2)\n",
            "Requirement already satisfied: requests>=2.32.2 in /usr/local/lib/python3.11/dist-packages (from datasets) (2.32.3)\n",
            "Requirement already satisfied: tqdm>=4.66.3 in /usr/local/lib/python3.11/dist-packages (from datasets) (4.67.1)\n",
            "Requirement already satisfied: xxhash in /usr/local/lib/python3.11/dist-packages (from datasets) (3.5.0)\n",
            "Requirement already satisfied: multiprocess<0.70.17 in /usr/local/lib/python3.11/dist-packages (from datasets) (0.70.16)\n",
            "Requirement already satisfied: fsspec<=2024.12.0,>=2023.1.0 in /usr/local/lib/python3.11/dist-packages (from fsspec[http]<=2024.12.0,>=2023.1.0->datasets) (2024.12.0)\n",
            "Requirement already satisfied: aiohttp in /usr/local/lib/python3.11/dist-packages (from datasets) (3.11.15)\n",
            "Requirement already satisfied: huggingface-hub>=0.24.0 in /usr/local/lib/python3.11/dist-packages (from datasets) (0.30.2)\n",
            "Requirement already satisfied: packaging in /usr/local/lib/python3.11/dist-packages (from datasets) (24.2)\n",
            "Requirement already satisfied: pyyaml>=5.1 in /usr/local/lib/python3.11/dist-packages (from datasets) (6.0.2)\n",
            "Requirement already satisfied: regex!=2019.12.17 in /usr/local/lib/python3.11/dist-packages (from transformers) (2024.11.6)\n",
            "Requirement already satisfied: tokenizers<0.22,>=0.21 in /usr/local/lib/python3.11/dist-packages (from transformers) (0.21.1)\n",
            "Requirement already satisfied: safetensors>=0.4.3 in /usr/local/lib/python3.11/dist-packages (from transformers) (0.5.3)\n",
            "Requirement already satisfied: aiohappyeyeballs>=2.3.0 in /usr/local/lib/python3.11/dist-packages (from aiohttp->datasets) (2.6.1)\n",
            "Requirement already satisfied: aiosignal>=1.1.2 in /usr/local/lib/python3.11/dist-packages (from aiohttp->datasets) (1.3.2)\n",
            "Requirement already satisfied: attrs>=17.3.0 in /usr/local/lib/python3.11/dist-packages (from aiohttp->datasets) (25.3.0)\n",
            "Requirement already satisfied: frozenlist>=1.1.1 in /usr/local/lib/python3.11/dist-packages (from aiohttp->datasets) (1.5.0)\n",
            "Requirement already satisfied: multidict<7.0,>=4.5 in /usr/local/lib/python3.11/dist-packages (from aiohttp->datasets) (6.4.2)\n",
            "Requirement already satisfied: propcache>=0.2.0 in /usr/local/lib/python3.11/dist-packages (from aiohttp->datasets) (0.3.1)\n",
            "Requirement already satisfied: yarl<2.0,>=1.17.0 in /usr/local/lib/python3.11/dist-packages (from aiohttp->datasets) (1.19.0)\n",
            "Requirement already satisfied: typing-extensions>=3.7.4.3 in /usr/local/lib/python3.11/dist-packages (from huggingface-hub>=0.24.0->datasets) (4.13.1)\n",
            "Requirement already satisfied: charset-normalizer<4,>=2 in /usr/local/lib/python3.11/dist-packages (from requests>=2.32.2->datasets) (3.4.1)\n",
            "Requirement already satisfied: idna<4,>=2.5 in /usr/local/lib/python3.11/dist-packages (from requests>=2.32.2->datasets) (3.10)\n",
            "Requirement already satisfied: urllib3<3,>=1.21.1 in /usr/local/lib/python3.11/dist-packages (from requests>=2.32.2->datasets) (2.3.0)\n",
            "Requirement already satisfied: certifi>=2017.4.17 in /usr/local/lib/python3.11/dist-packages (from requests>=2.32.2->datasets) (2025.1.31)\n",
            "Requirement already satisfied: python-dateutil>=2.8.2 in /usr/local/lib/python3.11/dist-packages (from pandas->datasets) (2.8.2)\n",
            "Requirement already satisfied: pytz>=2020.1 in /usr/local/lib/python3.11/dist-packages (from pandas->datasets) (2025.2)\n",
            "Requirement already satisfied: tzdata>=2022.7 in /usr/local/lib/python3.11/dist-packages (from pandas->datasets) (2025.2)\n",
            "Requirement already satisfied: six>=1.5 in /usr/local/lib/python3.11/dist-packages (from python-dateutil>=2.8.2->pandas->datasets) (1.17.0)\n"
          ]
        }
      ]
    },
    {
      "cell_type": "code",
      "source": [
        "from transformers import AutoTokenizer, AutoModelForSequenceClassification, Trainer, TrainingArguments\n",
        "import pandas as pd\n",
        "import torch\n",
        "import numpy as np\n",
        "import seaborn as sns\n",
        "import re\n",
        "from rank_bm25 import BM25Okapi\n",
        "import matplotlib.pyplot as plt\n",
        "from sklearn.model_selection import train_test_split, GridSearchCV\n",
        "from sklearn.feature_extraction.text import TfidfVectorizer\n",
        "from sklearn.linear_model import LogisticRegression\n",
        "from sklearn.metrics import classification_report, average_precision_score, confusion_matrix\n",
        "from sklearn.pipeline import Pipeline"
      ],
      "metadata": {
        "id": "MInIuMcDf1k9"
      },
      "execution_count": 18,
      "outputs": []
    },
    {
      "cell_type": "code",
      "execution_count": 19,
      "metadata": {
        "vscode": {
          "languageId": "plaintext"
        },
        "id": "tc_vHiR0PJ6C",
        "colab": {
          "base_uri": "https://localhost:8080/"
        },
        "outputId": "36f90665-790d-43dc-869a-43dae69933f8"
      },
      "outputs": [
        {
          "output_type": "stream",
          "name": "stdout",
          "text": [
            "--2025-04-14 22:52:53--  https://raw.githubusercontent.com/lmethratta/Poliscope/refs/heads/main/twinviews-13k.csv\n",
            "Resolving raw.githubusercontent.com (raw.githubusercontent.com)... 185.199.108.133, 185.199.109.133, 185.199.111.133, ...\n",
            "Connecting to raw.githubusercontent.com (raw.githubusercontent.com)|185.199.108.133|:443... connected.\n",
            "HTTP request sent, awaiting response... 200 OK\n",
            "Length: 3063233 (2.9M) [text/plain]\n",
            "Saving to: ‘data.csv’\n",
            "\n",
            "data.csv            100%[===================>]   2.92M  --.-KB/s    in 0.06s   \n",
            "\n",
            "2025-04-14 22:52:54 (51.7 MB/s) - ‘data.csv’ saved [3063233/3063233]\n",
            "\n"
          ]
        }
      ],
      "source": [
        "# Load dataset\n",
        "!wget -O data.csv \"https://raw.githubusercontent.com/lmethratta/Poliscope/refs/heads/main/twinviews-13k.csv\"\n",
        "\n",
        "# Load CSV into a DataFrame\n",
        "df = pd.read_csv(\"data.csv\")\n"
      ]
    },
    {
      "cell_type": "code",
      "source": [
        "# Create a regression dataset with scores from -1 to 1\n",
        "df_left = df[['l']].rename(columns={'l': 'text'})\n",
        "df_left['bias_score'] = -1  # Left bias\n",
        "\n",
        "df_right = df[['r']].rename(columns={'r': 'text'})\n",
        "df_right['bias_score'] = 1  # Right bias\n",
        "\n",
        "# Combine datasets and shuffle\n",
        "df_combined = pd.concat([df_left, df_right]).sample(frac=1).reset_index(drop=True)\n",
        "\n",
        "# Split into train and validation\n",
        "train_df, val_df = train_test_split(df_combined, test_size=0.1, random_state=42)\n",
        "\n",
        "# Load pre-trained tokenizer\n",
        "model_name = \"distilbert-base-uncased\"\n",
        "tokenizer = AutoTokenizer.from_pretrained(model_name)\n",
        "\n",
        "# Tokenize function\n",
        "def tokenize_function(examples):\n",
        "    return tokenizer(examples[\"text\"], padding=\"max_length\", truncation=True, max_length=128)\n"
      ],
      "metadata": {
        "id": "aG6r9d3cPeWm"
      },
      "execution_count": 20,
      "outputs": []
    },
    {
      "cell_type": "code",
      "source": [
        "def average_precision_at_k(relevance_scores, k):\n",
        "    \"\"\"Computes Average Precision at K\"\"\"\n",
        "    relevance_scores = np.array(relevance_scores)[:k]\n",
        "    num_relevant = np.sum(relevance_scores)\n",
        "    if num_relevant == 0:\n",
        "        return 0.0\n",
        "    cumulative_precision = [\n",
        "        np.sum(relevance_scores[:i+1]) / (i+1) for i in range(len(relevance_scores))\n",
        "    ]\n",
        "    return np.sum(cumulative_precision * relevance_scores) / num_relevant\n",
        "\n",
        "def mean_average_precision(relevance_scores_list, k=10):\n",
        "    \"\"\"Computes Mean Average Precision (MAP)\"\"\"\n",
        "    return np.mean([average_precision_at_k(scores, k) for scores in relevance_scores_list])\n",
        "\n",
        "def dcg_at_k(relevance_scores, k):\n",
        "    \"\"\"Computes Discounted Cumulative Gain at K\"\"\"\n",
        "    relevance_scores = np.array(relevance_scores)[:k]\n",
        "    return np.sum(relevance_scores / np.log2(np.arange(2, len(relevance_scores) + 2)))\n",
        "\n",
        "def ndcg_at_k(relevance_scores, k):\n",
        "    \"\"\"Computes Normalized Discounted Cumulative Gain (NDCG)\"\"\"\n",
        "    ideal_relevance = sorted(relevance_scores, reverse=True)  # Ideal DCG\n",
        "    return dcg_at_k(relevance_scores, k) / (dcg_at_k(ideal_relevance, k) + 1e-10)\n"
      ],
      "metadata": {
        "id": "Mv7sEbRJPvVF"
      },
      "execution_count": 22,
      "outputs": []
    },
    {
      "cell_type": "code",
      "source": [
        "# Create torch datasets\n",
        "class PoliticalBiasDataset(torch.utils.data.Dataset):\n",
        "    def __init__(self, dataframe, tokenizer):\n",
        "        self.encodings = tokenizer(dataframe[\"text\"].tolist(), padding=True, truncation=True, return_tensors=\"pt\")\n",
        "        self.labels = torch.tensor(dataframe[\"bias_score\"].values, dtype=torch.float32)\n",
        "\n",
        "    def __getitem__(self, idx):\n",
        "        item = {key: val[idx] for key, val in self.encodings.items()}\n",
        "        item['labels'] = self.labels[idx]\n",
        "        return item\n",
        "\n",
        "    def __len__(self):\n",
        "        return len(self.labels)\n",
        "\n",
        "# Create datasets\n",
        "train_dataset = PoliticalBiasDataset(train_df, tokenizer)\n",
        "val_dataset = PoliticalBiasDataset(val_df, tokenizer)"
      ],
      "metadata": {
        "id": "WnWSX1cpQY4M"
      },
      "execution_count": 23,
      "outputs": []
    },
    {
      "cell_type": "code",
      "source": [
        "# Load model for regression (1 output for the bias score)\n",
        "# API Key: 22837c95f026f63e3b60016c1de298e170d484cd\n",
        "model = AutoModelForSequenceClassification.from_pretrained(model_name, num_labels=1)\n",
        "\n",
        "# Define training arguments\n",
        "training_args = TrainingArguments(\n",
        "    output_dir=\"./results\",\n",
        "    num_train_epochs=3,\n",
        "    per_device_train_batch_size=16,\n",
        "    per_device_eval_batch_size=16,\n",
        "    warmup_steps=500,\n",
        "    weight_decay=0.01,\n",
        "    logging_dir=\"./logs\",\n",
        "    logging_steps=10,\n",
        "    eval_strategy=\"epoch\",\n",
        "    save_strategy=\"epoch\",\n",
        "    load_best_model_at_end=True,\n",
        ")\n",
        "\n",
        "# Initialize trainer\n",
        "trainer = Trainer(\n",
        "    model=model,\n",
        "    args=training_args,\n",
        "    train_dataset=train_dataset,\n",
        "    eval_dataset=val_dataset,\n",
        ")\n",
        "\n",
        "# Train the model\n",
        "trainer.train()"
      ],
      "metadata": {
        "colab": {
          "base_uri": "https://localhost:8080/",
          "height": 261
        },
        "id": "1sFojso3VijW",
        "outputId": "80a8d92e-5e96-4fad-ce60-e978b15cca16"
      },
      "execution_count": 24,
      "outputs": [
        {
          "output_type": "stream",
          "name": "stderr",
          "text": [
            "Some weights of DistilBertForSequenceClassification were not initialized from the model checkpoint at distilbert-base-uncased and are newly initialized: ['classifier.bias', 'classifier.weight', 'pre_classifier.bias', 'pre_classifier.weight']\n",
            "You should probably TRAIN this model on a down-stream task to be able to use it for predictions and inference.\n"
          ]
        },
        {
          "output_type": "display_data",
          "data": {
            "text/plain": [
              "<IPython.core.display.HTML object>"
            ],
            "text/html": [
              "\n",
              "    <div>\n",
              "      \n",
              "      <progress value='4677' max='4677' style='width:300px; height:20px; vertical-align: middle;'></progress>\n",
              "      [4677/4677 06:28, Epoch 3/3]\n",
              "    </div>\n",
              "    <table border=\"1\" class=\"dataframe\">\n",
              "  <thead>\n",
              " <tr style=\"text-align: left;\">\n",
              "      <th>Epoch</th>\n",
              "      <th>Training Loss</th>\n",
              "      <th>Validation Loss</th>\n",
              "    </tr>\n",
              "  </thead>\n",
              "  <tbody>\n",
              "    <tr>\n",
              "      <td>1</td>\n",
              "      <td>0.002400</td>\n",
              "      <td>0.064251</td>\n",
              "    </tr>\n",
              "    <tr>\n",
              "      <td>2</td>\n",
              "      <td>0.079500</td>\n",
              "      <td>0.055379</td>\n",
              "    </tr>\n",
              "    <tr>\n",
              "      <td>3</td>\n",
              "      <td>0.071900</td>\n",
              "      <td>0.047744</td>\n",
              "    </tr>\n",
              "  </tbody>\n",
              "</table><p>"
            ]
          },
          "metadata": {}
        },
        {
          "output_type": "execute_result",
          "data": {
            "text/plain": [
              "TrainOutput(global_step=4677, training_loss=0.07160526119261783, metrics={'train_runtime': 389.0543, 'train_samples_per_second': 192.305, 'train_steps_per_second': 12.021, 'total_flos': 832338622379394.0, 'train_loss': 0.07160526119261783, 'epoch': 3.0})"
            ]
          },
          "metadata": {},
          "execution_count": 24
        }
      ]
    },
    {
      "cell_type": "code",
      "source": [
        "# Function to predict bias score for new text\n",
        "def predict_bias(text, model, tokenizer, device='cuda' if torch.cuda.is_available() else 'cpu'):\n",
        "    # Move model to the specified device\n",
        "    model.to(device)\n",
        "\n",
        "    # Tokenize the input text\n",
        "    inputs = tokenizer(text, return_tensors=\"pt\", padding=True, truncation=True)\n",
        "\n",
        "    # Move input tensors to the same device as the model\n",
        "    inputs = {k: v.to(device) for k, v in inputs.items()}\n",
        "\n",
        "    # Get prediction\n",
        "    with torch.no_grad():\n",
        "        outputs = model(**inputs)\n",
        "\n",
        "    return outputs.logits.item()\n",
        "\n",
        "# Example usage\n",
        "test_texts = [\n",
        "    \"Abortion should be free\",\n",
        "    \"Lower taxes and less regulation will stimulate economic growth.\",\n",
        "    \"Healthcare should be a basic right for all citizens.\"\n",
        "]\n",
        "\n",
        "# Set device\n",
        "device = 'cuda' if torch.cuda.is_available() else 'cpu'\n",
        "print(f\"Using device: {device}\")\n",
        "\n",
        "for text in test_texts:\n",
        "    score = predict_bias(text, model, tokenizer)\n",
        "    print(f\"Text: {text}\")\n",
        "    print(f\"Bias score: {score:.2f}\")\n",
        "    print(f\"Political leaning: {'Left' if score < 0 else 'Right'}\")\n",
        "    print(\"-\" * 50)"
      ],
      "metadata": {
        "id": "6VdV65aWXUq0",
        "colab": {
          "base_uri": "https://localhost:8080/"
        },
        "outputId": "cd40342f-71d4-4139-b38f-03c2f3127c42"
      },
      "execution_count": 25,
      "outputs": [
        {
          "output_type": "stream",
          "name": "stdout",
          "text": [
            "Using device: cuda\n",
            "Text: Abortion should be free\n",
            "Bias score: -0.59\n",
            "Political leaning: Left\n",
            "--------------------------------------------------\n",
            "Text: Lower taxes and less regulation will stimulate economic growth.\n",
            "Bias score: 1.02\n",
            "Political leaning: Right\n",
            "--------------------------------------------------\n",
            "Text: Healthcare should be a basic right for all citizens.\n",
            "Bias score: -1.02\n",
            "Political leaning: Left\n",
            "--------------------------------------------------\n"
          ]
        }
      ]
    },
    {
      "cell_type": "code",
      "source": [
        "# === Part 1: Logistic Regression Classifier on TF-IDF ===\n",
        "\n",
        "# Create a binary label: left bias (<0) maps to 0 and right bias (>=0) maps to 1.\n",
        "df_combined['binary_label'] = df_combined['bias_score'].apply(lambda x: 0 if x < 0 else 1)\n",
        "\n",
        "# Split the data into train and validation sets\n",
        "train_df_lr, val_df_lr = train_test_split(df_combined, test_size=0.1, random_state=42)\n",
        "\n",
        "# Initialize the TF-IDF vectorizer (this lowercases text and removes English stopwords)\n",
        "vectorizer = TfidfVectorizer(lowercase=True, stop_words='english')\n",
        "X_train = vectorizer.fit_transform(train_df_lr['text'])\n",
        "X_val = vectorizer.transform(val_df_lr['text'])\n",
        "y_train = train_df_lr['binary_label']\n",
        "y_val = val_df_lr['binary_label'] # Use the validation labels here!\n",
        "\n",
        "# Train the logistic regression classifier\n",
        "lr_model = LogisticRegression(max_iter=200)\n",
        "lr_model.fit(X_train, y_train)\n",
        "\n",
        "# Predict and evaluate on the validation set\n",
        "y_pred = lr_model.predict(X_val)\n",
        "print(\"Logistic Regression Classification Report:\")\n",
        "print(classification_report(y_val, y_pred))\n"
      ],
      "metadata": {
        "colab": {
          "base_uri": "https://localhost:8080/"
        },
        "id": "o4FA3My-eHQT",
        "outputId": "c9464760-67e0-41cc-ed37-ec88ad4b63ee"
      },
      "execution_count": 27,
      "outputs": [
        {
          "output_type": "stream",
          "name": "stdout",
          "text": [
            "Logistic Regression Classification Report:\n",
            "              precision    recall  f1-score   support\n",
            "\n",
            "           0       0.98      0.97      0.98      1392\n",
            "           1       0.97      0.98      0.98      1379\n",
            "\n",
            "    accuracy                           0.98      2771\n",
            "   macro avg       0.98      0.98      0.98      2771\n",
            "weighted avg       0.98      0.98      0.98      2771\n",
            "\n"
          ]
        }
      ]
    },
    {
      "cell_type": "code",
      "source": [
        "# Compute the confusion matrix\n",
        "conf_matrix = confusion_matrix(y_val, y_pred)\n",
        "\n",
        "# Optionally, you can also plot the confusion matrix for a visual perspective:\n",
        "plt.figure(figsize=(5, 4))\n",
        "sns.heatmap(conf_matrix, annot=True, fmt=\"d\", cmap=\"Blues\",\n",
        "            xticklabels=[\"Predicted Left (0)\", \"Predicted Right (1)\"],\n",
        "            yticklabels=[\"Actual Left (0)\", \"Actual Right (1)\"])\n",
        "plt.ylabel(\"True label\")\n",
        "plt.xlabel(\"Predicted label\")\n",
        "plt.title(\"Confusion Matrix\")\n",
        "plt.show()\n"
      ],
      "metadata": {
        "colab": {
          "base_uri": "https://localhost:8080/",
          "height": 410
        },
        "id": "yJfoS6YppaQH",
        "outputId": "fabc1a0d-d498-4b39-f149-5def869c59ad"
      },
      "execution_count": 36,
      "outputs": [
        {
          "output_type": "display_data",
          "data": {
            "text/plain": [
              "<Figure size 500x400 with 2 Axes>"
            ],
            "image/png": "[encoded data removed]"
          },
          "metadata": {}
        }
      ]
    },
    {
      "cell_type": "code",
      "source": [
        "# === Part 2: BM25 Relevance Scoring ===\n",
        "\n",
        "# Define a simple preprocessing function to remove punctuation and lowercase the text\n",
        "def preprocess(text):\n",
        "    text = re.sub(r'[^\\w\\s]', '', text.lower())\n",
        "    return text.split()\n",
        "\n",
        "# Build the BM25 corpus: tokenize each document in df_combined\n",
        "corpus = [preprocess(doc) for doc in df_combined['text']]\n",
        "bm25 = BM25Okapi(corpus)\n",
        "\n",
        "# For a sample query, preprocess it similarly:\n",
        "query = \"healthcare for all citizens\"\n",
        "query_tokens = preprocess(query)\n",
        "\n",
        "# Calculate BM25 relevance scores for each document in the corpus\n",
        "relevance_scores = bm25.get_scores(query_tokens)"
      ],
      "metadata": {
        "id": "82nlT-gKeHZ7"
      },
      "execution_count": 30,
      "outputs": []
    },
    {
      "cell_type": "code",
      "source": [
        "# === Part 3: Combine Bias Confidence Scores and BM25 Scores for Ranking ===\n",
        "\n",
        "# Transform all documents using the TF-IDF vectorizer.\n",
        "X_full = vectorizer.transform(df_combined['text'])\n",
        "\n",
        "# Predict the probability of class '1' (right bias)\n",
        "predicted_probs = lr_model.predict_proba(X_full)[:, 1]\n",
        "\n",
        "# Map probabilities from [0, 1] to a signed bias score in [-1, 1]\n",
        "bias_scores = 2 * predicted_probs - 1\n",
        "\n",
        "# Convert relevance_scores to a NumPy array if it isn't already\n",
        "relevance_scores = np.array(relevance_scores)\n",
        "\n",
        "# Combine the scores (here we use multiplication as an example)\n",
        "final_scores = relevance_scores * bias_scores\n",
        "\n",
        "# Rank documents based on the combined final score (descending order)\n",
        "ranked_indices = np.argsort(final_scores)[::-1]\n",
        "\n",
        "# Display the top 10 ranked documents\n",
        "print(\"\\nTop 10 Ranked Documents:\")\n",
        "for i, idx in enumerate(ranked_indices[:10], start=1):\n",
        "    doc_text = df_combined.iloc[idx]['text'][:100].replace('\\n', ' ')  # show first 100 characters\n",
        "    print(f\"{i}. Score: {final_scores[idx]:.4f} | Excerpt: {doc_text}...\")"
      ],
      "metadata": {
        "colab": {
          "base_uri": "https://localhost:8080/"
        },
        "id": "sleIFP_Rgdni",
        "outputId": "b9758876-d2b3-4a3b-899a-2985c3754c0f"
      },
      "execution_count": 37,
      "outputs": [
        {
          "output_type": "stream",
          "name": "stdout",
          "text": [
            "\n",
            "Top 10 Ranked Documents:\n",
            "1. Score: 8.3049 | Excerpt: Citizens should be responsible for their own healthcare costs....\n",
            "2. Score: 8.1578 | Excerpt: Lowering taxes for all promotes economic growth, incentivizes investment, and benefits all citizens....\n",
            "3. Score: 7.7906 | Excerpt: Lower taxes for everyone stimulate economic growth and benefit all citizens...\n",
            "4. Score: 7.2435 | Excerpt: Free-market competition leads to innovation and affordable healthcare options for all....\n",
            "5. Score: 6.9292 | Excerpt: Lowering taxes for the wealthy stimulates economic growth and benefits all citizens....\n",
            "6. Score: 6.8179 | Excerpt: Free market competition leads to innovation and improves healthcare outcomes for all....\n",
            "7. Score: 6.6915 | Excerpt: Lower taxes for the wealthy incentivize investment, job creation, and economic growth that benefits ...\n",
            "8. Score: 6.6760 | Excerpt: Lower taxes encourage economic growth and individual prosperity, benefiting all citizens....\n",
            "9. Score: 6.5520 | Excerpt: Tax cuts for businesses and the wealthy stimulate economic growth and benefit all citizens....\n",
            "10. Score: 6.1858 | Excerpt: Lowering taxes on the wealthy promotes economic growth and benefits all citizens....\n"
          ]
        }
      ]
    },
    {
      "cell_type": "code",
      "source": [
        "def average_precision_at_k(relevance_scores, k):\n",
        "    \"\"\"Compute Average Precision at K for one query.\"\"\"\n",
        "    relevance_scores = np.array(relevance_scores)[:k]\n",
        "    num_relevant = np.sum(relevance_scores)\n",
        "    if num_relevant == 0:\n",
        "        return 0.0\n",
        "    cumulative_precision = [\n",
        "        np.sum(relevance_scores[:i+1]) / (i+1) for i in range(len(relevance_scores))\n",
        "    ]\n",
        "    return np.sum(cumulative_precision * relevance_scores) / num_relevant\n",
        "\n",
        "def mean_average_precision(relevance_scores_list, k=10):\n",
        "    \"\"\"Compute Mean Average Precision over multiple queries.\"\"\"\n",
        "    return np.mean([average_precision_at_k(scores, k) for scores in relevance_scores_list])\n",
        "\n",
        "def dcg_at_k(relevance_scores, k):\n",
        "    \"\"\"Compute Discounted Cumulative Gain at K.\"\"\"\n",
        "    relevance_scores = np.array(relevance_scores)[:k]\n",
        "    return np.sum(relevance_scores / np.log2(np.arange(2, len(relevance_scores) + 2)))\n",
        "\n",
        "def ndcg_at_k(relevance_scores, k):\n",
        "    \"\"\"Compute Normalized Discounted Cumulative Gain at K.\"\"\"\n",
        "    ideal_relevance = sorted(relevance_scores, reverse=True)  # highest scores first\n",
        "    return dcg_at_k(relevance_scores, k) / (dcg_at_k(ideal_relevance, k) + 1e-10)\n",
        "\n",
        "\n",
        "# === Sample Evaluation ===\n",
        "# For demonstration, suppose we have a list of queries.\n",
        "sample_queries = [\n",
        "    \"healthcare for all citizens\",\n",
        "    \"tax cuts for economic growth\",\n",
        "    \"environmental policy and climate change\"\n",
        "]\n",
        "\n",
        "def get_final_scores(query, combination_strategy='multiplicative', alpha=0.5, beta=0.5):\n",
        "    \"\"\"\n",
        "    Compute final ranking scores for the entire corpus given a query.\n",
        "\n",
        "    Parameters:\n",
        "    - query: str, the search query.\n",
        "    - combination_strategy: string, one of 'multiplicative', 'additive', or 'weighted'.\n",
        "    - alpha, beta: weights for the weighted sum combination.\n",
        "\n",
        "    Returns:\n",
        "    - final_scores: NumPy array of combined scores for each document.\n",
        "    \"\"\"\n",
        "    query_tokens = preprocess(query)\n",
        "    bm25_scores = np.array(bm25.get_scores(query_tokens))\n",
        "\n",
        "    X_full = vectorizer.transform(df_combined['text'])\n",
        "    predicted_probs = lr_model.predict_proba(X_full)[:, 1]\n",
        "    bias_scores = 2 * predicted_probs - 1\n",
        "\n",
        "    if combination_strategy == 'multiplicative':\n",
        "        final_scores = bm25_scores * bias_scores\n",
        "    elif combination_strategy == 'additive':\n",
        "        final_scores = bm25_scores + bias_scores\n",
        "    elif combination_strategy == 'weighted':\n",
        "        # You can adjust alpha and beta to weight the relevance and bias scores\n",
        "        final_scores = alpha * bm25_scores + beta * bias_scores\n",
        "    else:\n",
        "        raise ValueError(\"Invalid combination strategy provided.\")\n",
        "\n",
        "    return final_scores\n",
        "\n",
        "\n",
        "# Assume we have some dummy ground truth relevance judgments for these queries.\n",
        "# For each query, create a list of relevance labels (1 for relevant, 0 for non-relevant).\n",
        "# In practice, replace these with your actual judgments.\n",
        "dummy_judgments = {\n",
        "    \"healthcare for all citizens\": [1 if i % 5 == 0 else 0 for i in range(len(df_combined))],\n",
        "    \"tax cuts for economic growth\": [1 if i % 7 == 0 else 0 for i in range(len(df_combined))],\n",
        "    \"environmental policy and climate change\": [1 if i % 11 == 0 else 0 for i in range(len(df_combined))]\n",
        "}\n",
        "\n",
        "map_scores = []\n",
        "ndcg_scores = []\n",
        "k = 10\n",
        "\n",
        "for query in sample_queries:\n",
        "    final_scores = get_final_scores(query, combination_strategy='multiplicative')\n",
        "    ranked_indices = np.argsort(final_scores)[::-1]\n",
        "\n",
        "    # Generate the relevance list for the ranked order\n",
        "    ranked_relevances = [dummy_judgments[query][idx] for idx in ranked_indices]\n",
        "\n",
        "    ap = average_precision_at_k(ranked_relevances, k)\n",
        "    ndcg = ndcg_at_k(ranked_relevances, k)\n",
        "    map_scores.append(ap)\n",
        "    ndcg_scores.append(ndcg)\n",
        "\n",
        "    print(f\"Query: '{query}'\")\n",
        "    print(f\"MAP@{k}: {ap:.4f}, NDCG@{k}: {ndcg:.4f}\\n\")\n",
        "\n",
        "print(f\"Mean MAP@{k}: {np.mean(map_scores):.4f}\")\n",
        "print(f\"Mean NDCG@{k}: {np.mean(ndcg_scores):.4f}\")\n"
      ],
      "metadata": {
        "colab": {
          "base_uri": "https://localhost:8080/"
        },
        "id": "wSI3iqnjgkKh",
        "outputId": "b79c5cd0-2b90-40ed-85f4-b77c8366a3d2"
      },
      "execution_count": 32,
      "outputs": [
        {
          "output_type": "stream",
          "name": "stdout",
          "text": [
            "Query: 'healthcare for all citizens'\n",
            "MAP@10: 0.5000, NDCG@10: 0.1389\n",
            "\n",
            "Query: 'tax cuts for economic growth'\n",
            "MAP@10: 0.5000, NDCG@10: 0.1389\n",
            "\n",
            "Query: 'environmental policy and climate change'\n",
            "MAP@10: 0.3333, NDCG@10: 0.1100\n",
            "\n",
            "Mean MAP@10: 0.4444\n",
            "Mean NDCG@10: 0.1293\n"
          ]
        }
      ]
    },
    {
      "cell_type": "code",
      "source": [
        "# Define a pipeline that first vectorizes and then applies logistic regression.\n",
        "pipeline = Pipeline([\n",
        "    ('tfidf', TfidfVectorizer(lowercase=True, stop_words='english')),\n",
        "    ('lr', LogisticRegression(max_iter=200))\n",
        "])\n",
        "\n",
        "# Define a parameter grid for hyperparameter tuning.\n",
        "param_grid = {\n",
        "    'tfidf__max_features': [None, 5000, 10000],\n",
        "    'lr__C': [0.1, 1, 10],\n",
        "    'lr__solver': ['lbfgs', 'liblinear']\n",
        "}\n",
        "\n",
        "# Initialize GridSearchCV\n",
        "grid_search = GridSearchCV(pipeline, param_grid, cv=3, scoring='accuracy', n_jobs=-1)\n",
        "grid_search.fit(train_df_lr['text'], train_df_lr['binary_label'])\n",
        "\n",
        "print(\"Best parameters found:\")\n",
        "print(grid_search.best_params_)\n",
        "print(\"Best training accuracy:\")\n",
        "print(grid_search.best_score_)\n",
        "\n",
        "# Use the best estimator for prediction on the validation set:\n",
        "best_model = grid_search.best_estimator_\n",
        "y_pred_gs = best_model.predict(val_df_lr['text'])\n",
        "print(\"Classification Report for Best Model:\")\n",
        "print(classification_report(val_df_lr['binary_label'], y_pred_gs))\n"
      ],
      "metadata": {
        "colab": {
          "base_uri": "https://localhost:8080/"
        },
        "id": "XB4VXNEyi6C5",
        "outputId": "b21a8b64-fa58-4e64-a515-ceabe64bf711"
      },
      "execution_count": 33,
      "outputs": [
        {
          "output_type": "stream",
          "name": "stdout",
          "text": [
            "Best parameters found:\n",
            "{'lr__C': 10, 'lr__solver': 'liblinear', 'tfidf__max_features': None}\n",
            "Best training accuracy:\n",
            "0.9793095152171297\n",
            "Classification Report for Best Model:\n",
            "              precision    recall  f1-score   support\n",
            "\n",
            "           0       0.98      0.98      0.98      1392\n",
            "           1       0.98      0.98      0.98      1379\n",
            "\n",
            "    accuracy                           0.98      2771\n",
            "   macro avg       0.98      0.98      0.98      2771\n",
            "weighted avg       0.98      0.98      0.98      2771\n",
            "\n"
          ]
        }
      ]
    },
    {
      "cell_type": "code",
      "source": [
        "# Example: Use weighted sum combination with alpha=0.6 (BM25 weight) and beta=0.4 (bias weight)\n",
        "final_scores_weighted = get_final_scores(\"healthcare for all citizens\", combination_strategy='weighted', alpha=0.6, beta=0.4)\n",
        "ranked_indices_weighted = np.argsort(final_scores_weighted)[::-1]\n",
        "\n",
        "print(\"\\nTop 10 Ranked Documents using Weighted Sum Combination:\")\n",
        "for i, idx in enumerate(ranked_indices_weighted[:10], start=1):\n",
        "    doc_text = df_combined.iloc[idx]['text'][:100].replace('\\n', ' ')\n",
        "    print(f\"{i}. Score: {final_scores_weighted[idx]:.4f} | Excerpt: {doc_text}...\")\n"
      ],
      "metadata": {
        "colab": {
          "base_uri": "https://localhost:8080/"
        },
        "id": "mDiBn5CgjMJt",
        "outputId": "a28b8633-c770-4b88-974e-6309f85b64eb"
      },
      "execution_count": 34,
      "outputs": [
        {
          "output_type": "stream",
          "name": "stdout",
          "text": [
            "\n",
            "Top 10 Ranked Documents using Weighted Sum Combination:\n",
            "1. Score: 7.5677 | Excerpt: Universal healthcare guarantees access to healthcare for all citizens....\n",
            "2. Score: 7.5416 | Excerpt: Government-funded healthcare ensures access to healthcare for all citizens....\n",
            "3. Score: 7.4125 | Excerpt: Government-funded healthcare leads to better healthcare outcomes for all citizens....\n",
            "4. Score: 7.4032 | Excerpt: Universal healthcare leads to better healthcare outcomes for all citizens....\n",
            "5. Score: 7.2838 | Excerpt: Universal healthcare ensures access to quality healthcare for all citizens....\n",
            "6. Score: 7.2838 | Excerpt: Universal healthcare ensures access to quality healthcare for all citizens....\n",
            "7. Score: 7.2005 | Excerpt: We should have universal healthcare for all citizens....\n",
            "8. Score: 7.1580 | Excerpt: We should provide free healthcare for all citizens....\n",
            "9. Score: 7.1580 | Excerpt: We should provide free healthcare for all citizens....\n",
            "10. Score: 7.1492 | Excerpt: Universal healthcare should be provided for all citizens....\n"
          ]
        }
      ]
    },
    {
      "cell_type": "code",
      "source": [
        "# For each sample query, print the top 10 ranked documents along with their BM25, bias, and final scores.\n",
        "def analyze_query(query, combination_strategy):\n",
        "    query_tokens = preprocess(query)\n",
        "    bm25_scores = np.array(bm25.get_scores(query_tokens))\n",
        "\n",
        "    X_full = vectorizer.transform(df_combined['text'])\n",
        "    predicted_probs = lr_model.predict_proba(X_full)[:, 1]\n",
        "    bias_scores = 2 * predicted_probs - 1\n",
        "\n",
        "    if combination_strategy == 'multiplicative':\n",
        "        final_scores = bm25_scores * bias_scores\n",
        "    elif combination_strategy == 'additive':\n",
        "        final_scores = bm25_scores + bias_scores\n",
        "    elif combination_strategy == 'weighted':\n",
        "        final_scores = 0.6 * bm25_scores + 0.4 * bias_scores\n",
        "    else:\n",
        "        raise ValueError(\"Invalid combination strategy.\")\n",
        "\n",
        "    ranked_indices = np.argsort(final_scores)[::-1]\n",
        "    print(f\"\\nAnalysis for Query: '{query}'\")\n",
        "    print(\"{:<4} {:<10} {:<10} {:<10} {:<}\".format(\"Rank\", \"BM25\", \"Bias\", \"Final\", \"Text Excerpt\"))\n",
        "    for i, idx in enumerate(ranked_indices[:10], start=1):\n",
        "        bm25_sc = bm25_scores[idx]\n",
        "        bias_sc = bias_scores[idx]\n",
        "        final_sc = final_scores[idx]\n",
        "        text_excerpt = df_combined.iloc[idx]['text'][:80].replace('\\n', ' ')\n",
        "        print(f\"{i:<4} {bm25_sc:<10.4f} {bias_sc:<10.4f} {final_sc:<10.4f} {text_excerpt}\")\n",
        "\n",
        "# Analyze one of the sample queries\n",
        "analyze_query(\"tax cuts for economic growth\", combination_strategy='weighted')\n"
      ],
      "metadata": {
        "colab": {
          "base_uri": "https://localhost:8080/"
        },
        "id": "3DjWNqrTjUIT",
        "outputId": "b6107b88-93bd-4a1d-ff29-684566baf379"
      },
      "execution_count": 39,
      "outputs": [
        {
          "output_type": "stream",
          "name": "stdout",
          "text": [
            "\n",
            "Analysis for Query: 'tax cuts for economic growth'\n",
            "Rank BM25       Bias       Final      Text Excerpt\n",
            "1    20.0596    0.6463     12.2943    Tax cuts for the wealthy stimulate economic growth.\n",
            "2    17.9310    0.7287     11.0501    Tax cuts for the wealthy stimulate economic growth and benefit everyone\n",
            "3    17.9310    0.7287     11.0501    Tax cuts for the wealthy stimulate economic growth and benefit everyone.\n",
            "4    17.9310    0.7287     11.0501    Tax cuts for the wealthy stimulate economic growth and benefit everyone.\n",
            "5    17.9310    0.7221     11.0475    Tax cuts for the wealthy stimulate economic growth and incentivize investment.\n",
            "6    17.3185    0.8799     10.7430    Tax cuts for the wealthy encourage investment, job creation, and economic growth\n",
            "7    17.3185    0.8469     10.7298    Tax cuts for the wealthy stimulate economic growth and incentivize job creation.\n",
            "8    16.7464    0.6166     10.2945    Tax cuts for the wealthy stimulate economic growth and benefit all income levels\n",
            "9    16.7464    0.6166     10.2945    Tax cuts for the wealthy stimulate economic growth and benefit all income levels\n",
            "10   16.5466    0.8550     10.2699    Corporate tax cuts stimulate economic growth and lead to job creation\n"
          ]
        }
      ]
    },
    {
      "cell_type": "code",
      "source": [],
      "metadata": {
        "id": "q0TaB17FjVrB"
      },
      "execution_count": 38,
      "outputs": []
    },
    {
      "cell_type": "code",
      "source": [],
      "metadata": {
        "id": "mVvrSF3kjVz6"
      },
      "execution_count": 16,
      "outputs": []
    }
  ],
  "metadata": {
    "language_info": {
      "name": "python"
    },
    "colab": {
      "provenance": [],
      "toc_visible": true,
      "gpuType": "T4",
      "include_colab_link": true
    },
    "kernelspec": {
      "name": "python3",
      "display_name": "Python 3"
    },
    "accelerator": "GPU"
  },
  "nbformat": 4,
  "nbformat_minor": 0
}