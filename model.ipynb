{
  "cells": [
    {
      "cell_type": "markdown",
      "metadata": {
        "id": "view-in-github",
        "colab_type": "text"
      },
      "source": [
        "<a href=\"https://colab.research.google.com/github/lmethratta/Poliscope/blob/main/model.ipynb\" target=\"_parent\"><img src=\"https://colab.research.google.com/assets/colab-badge.svg\" alt=\"Open In Colab\"/></a>"
      ]
    },
    {
      "cell_type": "code",
      "source": [
        "!pip install datasets transformers"
      ],
      "metadata": {
        "id": "bafN0lgvPKim",
        "outputId": "246b24ec-5a52-4b29-e4e9-a884624bd874",
        "colab": {
          "base_uri": "https://localhost:8080/"
        }
      },
      "execution_count": 13,
      "outputs": [
        {
          "output_type": "stream",
          "name": "stdout",
          "text": [
            "Requirement already satisfied: datasets in /usr/local/lib/python3.11/dist-packages (3.5.0)\n",
            "Requirement already satisfied: transformers in /usr/local/lib/python3.11/dist-packages (4.51.1)\n",
            "Requirement already satisfied: filelock in /usr/local/lib/python3.11/dist-packages (from datasets) (3.18.0)\n",
            "Requirement already satisfied: numpy>=1.17 in /usr/local/lib/python3.11/dist-packages (from datasets) (2.0.2)\n",
            "Requirement already satisfied: pyarrow>=15.0.0 in /usr/local/lib/python3.11/dist-packages (from datasets) (18.1.0)\n",
            "Requirement already satisfied: dill<0.3.9,>=0.3.0 in /usr/local/lib/python3.11/dist-packages (from datasets) (0.3.8)\n",
            "Requirement already satisfied: pandas in /usr/local/lib/python3.11/dist-packages (from datasets) (2.2.2)\n",
            "Requirement already satisfied: requests>=2.32.2 in /usr/local/lib/python3.11/dist-packages (from datasets) (2.32.3)\n",
            "Requirement already satisfied: tqdm>=4.66.3 in /usr/local/lib/python3.11/dist-packages (from datasets) (4.67.1)\n",
            "Requirement already satisfied: xxhash in /usr/local/lib/python3.11/dist-packages (from datasets) (3.5.0)\n",
            "Requirement already satisfied: multiprocess<0.70.17 in /usr/local/lib/python3.11/dist-packages (from datasets) (0.70.16)\n",
            "Requirement already satisfied: fsspec<=2024.12.0,>=2023.1.0 in /usr/local/lib/python3.11/dist-packages (from fsspec[http]<=2024.12.0,>=2023.1.0->datasets) (2024.12.0)\n",
            "Requirement already satisfied: aiohttp in /usr/local/lib/python3.11/dist-packages (from datasets) (3.11.15)\n",
            "Requirement already satisfied: huggingface-hub>=0.24.0 in /usr/local/lib/python3.11/dist-packages (from datasets) (0.30.2)\n",
            "Requirement already satisfied: packaging in /usr/local/lib/python3.11/dist-packages (from datasets) (24.2)\n",
            "Requirement already satisfied: pyyaml>=5.1 in /usr/local/lib/python3.11/dist-packages (from datasets) (6.0.2)\n",
            "Requirement already satisfied: regex!=2019.12.17 in /usr/local/lib/python3.11/dist-packages (from transformers) (2024.11.6)\n",
            "Requirement already satisfied: tokenizers<0.22,>=0.21 in /usr/local/lib/python3.11/dist-packages (from transformers) (0.21.1)\n",
            "Requirement already satisfied: safetensors>=0.4.3 in /usr/local/lib/python3.11/dist-packages (from transformers) (0.5.3)\n",
            "Requirement already satisfied: aiohappyeyeballs>=2.3.0 in /usr/local/lib/python3.11/dist-packages (from aiohttp->datasets) (2.6.1)\n",
            "Requirement already satisfied: aiosignal>=1.1.2 in /usr/local/lib/python3.11/dist-packages (from aiohttp->datasets) (1.3.2)\n",
            "Requirement already satisfied: attrs>=17.3.0 in /usr/local/lib/python3.11/dist-packages (from aiohttp->datasets) (25.3.0)\n",
            "Requirement already satisfied: frozenlist>=1.1.1 in /usr/local/lib/python3.11/dist-packages (from aiohttp->datasets) (1.5.0)\n",
            "Requirement already satisfied: multidict<7.0,>=4.5 in /usr/local/lib/python3.11/dist-packages (from aiohttp->datasets) (6.4.2)\n",
            "Requirement already satisfied: propcache>=0.2.0 in /usr/local/lib/python3.11/dist-packages (from aiohttp->datasets) (0.3.1)\n",
            "Requirement already satisfied: yarl<2.0,>=1.17.0 in /usr/local/lib/python3.11/dist-packages (from aiohttp->datasets) (1.19.0)\n",
            "Requirement already satisfied: typing-extensions>=3.7.4.3 in /usr/local/lib/python3.11/dist-packages (from huggingface-hub>=0.24.0->datasets) (4.13.1)\n",
            "Requirement already satisfied: charset-normalizer<4,>=2 in /usr/local/lib/python3.11/dist-packages (from requests>=2.32.2->datasets) (3.4.1)\n",
            "Requirement already satisfied: idna<4,>=2.5 in /usr/local/lib/python3.11/dist-packages (from requests>=2.32.2->datasets) (3.10)\n",
            "Requirement already satisfied: urllib3<3,>=1.21.1 in /usr/local/lib/python3.11/dist-packages (from requests>=2.32.2->datasets) (2.3.0)\n",
            "Requirement already satisfied: certifi>=2017.4.17 in /usr/local/lib/python3.11/dist-packages (from requests>=2.32.2->datasets) (2025.1.31)\n",
            "Requirement already satisfied: python-dateutil>=2.8.2 in /usr/local/lib/python3.11/dist-packages (from pandas->datasets) (2.8.2)\n",
            "Requirement already satisfied: pytz>=2020.1 in /usr/local/lib/python3.11/dist-packages (from pandas->datasets) (2025.2)\n",
            "Requirement already satisfied: tzdata>=2022.7 in /usr/local/lib/python3.11/dist-packages (from pandas->datasets) (2025.2)\n",
            "Requirement already satisfied: six>=1.5 in /usr/local/lib/python3.11/dist-packages (from python-dateutil>=2.8.2->pandas->datasets) (1.17.0)\n"
          ]
        }
      ]
    },
    {
      "cell_type": "code",
      "execution_count": 19,
      "metadata": {
        "vscode": {
          "languageId": "plaintext"
        },
        "id": "tc_vHiR0PJ6C",
        "colab": {
          "base_uri": "https://localhost:8080/"
        },
        "outputId": "30e06a14-4233-4c21-a4b0-35d0edf85152"
      },
      "outputs": [
        {
          "output_type": "stream",
          "name": "stdout",
          "text": [
            "--2025-04-14 22:19:52--  https://raw.githubusercontent.com/lmethratta/Poliscope/refs/heads/main/twinviews-13k.csv\n",
            "Resolving raw.githubusercontent.com (raw.githubusercontent.com)... 185.199.109.133, 185.199.110.133, 185.199.108.133, ...\n",
            "Connecting to raw.githubusercontent.com (raw.githubusercontent.com)|185.199.109.133|:443... connected.\n",
            "HTTP request sent, awaiting response... 200 OK\n",
            "Length: 3063233 (2.9M) [text/plain]\n",
            "Saving to: ‘data.csv’\n",
            "\n",
            "\rdata.csv              0%[                    ]       0  --.-KB/s               \rdata.csv            100%[===================>]   2.92M  --.-KB/s    in 0.04s   \n",
            "\n",
            "2025-04-14 22:19:52 (81.7 MB/s) - ‘data.csv’ saved [3063233/3063233]\n",
            "\n"
          ]
        }
      ],
      "source": [
        "from transformers import AutoTokenizer, AutoModelForSequenceClassification, Trainer, TrainingArguments\n",
        "import pandas as pd\n",
        "import torch\n",
        "import numpy as np\n",
        "from sklearn.model_selection import train_test_split\n",
        "\n",
        "# Load dataset\n",
        "!wget -O data.csv \"https://raw.githubusercontent.com/lmethratta/Poliscope/refs/heads/main/twinviews-13k.csv\"\n",
        "\n",
        "# Load CSV into a DataFrame\n",
        "df = pd.read_csv(\"data.csv\")\n"
      ]
    },
    {
      "cell_type": "code",
      "source": [
        "# Create a regression dataset with scores from -1 to 1\n",
        "df_left = df[['l']].rename(columns={'l': 'text'})\n",
        "df_left['bias_score'] = -1  # Left bias\n",
        "\n",
        "df_right = df[['r']].rename(columns={'r': 'text'})\n",
        "df_right['bias_score'] = 1  # Right bias\n",
        "\n",
        "# Combine datasets and shuffle\n",
        "df_combined = pd.concat([df_left, df_right]).sample(frac=1).reset_index(drop=True)\n",
        "\n",
        "# Split into train and validation\n",
        "train_df, val_df = train_test_split(df_combined, test_size=0.1, random_state=42)\n",
        "\n",
        "# Load pre-trained tokenizer\n",
        "model_name = \"distilbert-base-uncased\"\n",
        "tokenizer = AutoTokenizer.from_pretrained(model_name)\n",
        "\n",
        "# Tokenize function\n",
        "def tokenize_function(examples):\n",
        "    return tokenizer(examples[\"text\"], padding=\"max_length\", truncation=True, max_length=128)\n"
      ],
      "metadata": {
        "id": "aG6r9d3cPeWm"
      },
      "execution_count": 20,
      "outputs": []
    },
    {
      "cell_type": "code",
      "source": [
        "import numpy as np\n",
        "from sklearn.metrics import average_precision_score\n",
        "\n",
        "def average_precision_at_k(relevance_scores, k):\n",
        "    \"\"\"Computes Average Precision at K\"\"\"\n",
        "    relevance_scores = np.array(relevance_scores)[:k]\n",
        "    num_relevant = np.sum(relevance_scores)\n",
        "    if num_relevant == 0:\n",
        "        return 0.0\n",
        "    cumulative_precision = [\n",
        "        np.sum(relevance_scores[:i+1]) / (i+1) for i in range(len(relevance_scores))\n",
        "    ]\n",
        "    return np.sum(cumulative_precision * relevance_scores) / num_relevant\n",
        "\n",
        "def mean_average_precision(relevance_scores_list, k=10):\n",
        "    \"\"\"Computes Mean Average Precision (MAP)\"\"\"\n",
        "    return np.mean([average_precision_at_k(scores, k) for scores in relevance_scores_list])\n",
        "\n",
        "def dcg_at_k(relevance_scores, k):\n",
        "    \"\"\"Computes Discounted Cumulative Gain at K\"\"\"\n",
        "    relevance_scores = np.array(relevance_scores)[:k]\n",
        "    return np.sum(relevance_scores / np.log2(np.arange(2, len(relevance_scores) + 2)))\n",
        "\n",
        "def ndcg_at_k(relevance_scores, k):\n",
        "    \"\"\"Computes Normalized Discounted Cumulative Gain (NDCG)\"\"\"\n",
        "    ideal_relevance = sorted(relevance_scores, reverse=True)  # Ideal DCG\n",
        "    return dcg_at_k(relevance_scores, k) / (dcg_at_k(ideal_relevance, k) + 1e-10)\n",
        "\n",
        "# Example usage:\n",
        "relevance_scores_list = [\n",
        "    [1, 0, 1, 1, 0],  # Example query results: 1 = relevant, 0 = non-relevant\n",
        "    [1, 1, 0, 0, 1],\n",
        "]\n",
        "\n",
        "map_score = mean_average_precision(relevance_scores_list, k=5)\n",
        "ndcg_score = np.mean([ndcg_at_k(scores, k=5) for scores in relevance_scores_list])\n",
        "\n",
        "print(f\"MAP: {map_score:.4f}\")\n",
        "print(f\"NDCG: {ndcg_score:.4f}\")\n"
      ],
      "metadata": {
        "id": "Mv7sEbRJPvVF",
        "outputId": "eec3cfc5-9fbc-4efe-c561-17fd028a69f4",
        "colab": {
          "base_uri": "https://localhost:8080/"
        }
      },
      "execution_count": 21,
      "outputs": [
        {
          "output_type": "stream",
          "name": "stdout",
          "text": [
            "MAP: 0.8361\n",
            "NDCG: 0.9265\n"
          ]
        }
      ]
    },
    {
      "cell_type": "code",
      "source": [
        "# Create torch datasets\n",
        "class PoliticalBiasDataset(torch.utils.data.Dataset):\n",
        "    def __init__(self, dataframe, tokenizer):\n",
        "        self.encodings = tokenizer(dataframe[\"text\"].tolist(), padding=True, truncation=True, return_tensors=\"pt\")\n",
        "        self.labels = torch.tensor(dataframe[\"bias_score\"].values, dtype=torch.float32)\n",
        "\n",
        "    def __getitem__(self, idx):\n",
        "        item = {key: val[idx] for key, val in self.encodings.items()}\n",
        "        item['labels'] = self.labels[idx]\n",
        "        return item\n",
        "\n",
        "    def __len__(self):\n",
        "        return len(self.labels)\n",
        "\n",
        "# Create datasets\n",
        "train_dataset = PoliticalBiasDataset(train_df, tokenizer)\n",
        "val_dataset = PoliticalBiasDataset(val_df, tokenizer)"
      ],
      "metadata": {
        "id": "WnWSX1cpQY4M"
      },
      "execution_count": 22,
      "outputs": []
    },
    {
      "cell_type": "code",
      "source": [
        "# Load model for regression (1 output for the bias score)\n",
        "# API Key: 22837c95f026f63e3b60016c1de298e170d484cd\n",
        "model = AutoModelForSequenceClassification.from_pretrained(model_name, num_labels=1)\n",
        "\n",
        "# Define training arguments\n",
        "training_args = TrainingArguments(\n",
        "    output_dir=\"./results\",\n",
        "    num_train_epochs=3,\n",
        "    per_device_train_batch_size=16,\n",
        "    per_device_eval_batch_size=16,\n",
        "    warmup_steps=500,\n",
        "    weight_decay=0.01,\n",
        "    logging_dir=\"./logs\",\n",
        "    logging_steps=10,\n",
        "    eval_strategy=\"epoch\",\n",
        "    save_strategy=\"epoch\",\n",
        "    load_best_model_at_end=True,\n",
        ")\n",
        "\n",
        "# Initialize trainer\n",
        "trainer = Trainer(\n",
        "    model=model,\n",
        "    args=training_args,\n",
        "    train_dataset=train_dataset,\n",
        "    eval_dataset=val_dataset,\n",
        ")\n",
        "\n",
        "# Train the model\n",
        "trainer.train()"
      ],
      "metadata": {
        "colab": {
          "base_uri": "https://localhost:8080/",
          "height": 712
        },
        "id": "1sFojso3VijW",
        "outputId": "157a99b1-de03-44a2-9b1e-d58a6c23288b"
      },
      "execution_count": 23,
      "outputs": [
        {
          "output_type": "stream",
          "name": "stderr",
          "text": [
            "Some weights of DistilBertForSequenceClassification were not initialized from the model checkpoint at distilbert-base-uncased and are newly initialized: ['classifier.bias', 'classifier.weight', 'pre_classifier.bias', 'pre_classifier.weight']\n",
            "You should probably TRAIN this model on a down-stream task to be able to use it for predictions and inference.\n",
            "\u001b[34m\u001b[1mwandb\u001b[0m: \u001b[33mWARNING\u001b[0m The `run_name` is currently set to the same value as `TrainingArguments.output_dir`. If this was not intended, please specify a different run name by setting the `TrainingArguments.run_name` parameter.\n",
            "\u001b[34m\u001b[1mwandb\u001b[0m: Using wandb-core as the SDK backend.  Please refer to https://wandb.me/wandb-core for more information.\n"
          ]
        },
        {
          "output_type": "display_data",
          "data": {
            "text/plain": [
              "<IPython.core.display.Javascript object>"
            ],
            "application/javascript": [
              "\n",
              "        window._wandbApiKey = new Promise((resolve, reject) => {\n",
              "            function loadScript(url) {\n",
              "            return new Promise(function(resolve, reject) {\n",
              "                let newScript = document.createElement(\"script\");\n",
              "                newScript.onerror = reject;\n",
              "                newScript.onload = resolve;\n",
              "                document.body.appendChild(newScript);\n",
              "                newScript.src = url;\n",
              "            });\n",
              "            }\n",
              "            loadScript(\"https://cdn.jsdelivr.net/npm/postmate/build/postmate.min.js\").then(() => {\n",
              "            const iframe = document.createElement('iframe')\n",
              "            iframe.style.cssText = \"width:0;height:0;border:none\"\n",
              "            document.body.appendChild(iframe)\n",
              "            const handshake = new Postmate({\n",
              "                container: iframe,\n",
              "                url: 'https://wandb.ai/authorize'\n",
              "            });\n",
              "            const timeout = setTimeout(() => reject(\"Couldn't auto authenticate\"), 5000)\n",
              "            handshake.then(function(child) {\n",
              "                child.on('authorize', data => {\n",
              "                    clearTimeout(timeout)\n",
              "                    resolve(data)\n",
              "                });\n",
              "            });\n",
              "            })\n",
              "        });\n",
              "    "
            ]
          },
          "metadata": {}
        },
        {
          "output_type": "stream",
          "name": "stderr",
          "text": [
            "\u001b[34m\u001b[1mwandb\u001b[0m: Logging into wandb.ai. (Learn how to deploy a W&B server locally: https://wandb.me/wandb-server)\n",
            "\u001b[34m\u001b[1mwandb\u001b[0m: You can find your API key in your browser here: https://wandb.ai/authorize\n",
            "wandb: Paste an API key from your profile and hit enter:"
          ]
        },
        {
          "name": "stdout",
          "output_type": "stream",
          "text": [
            " ··········\n"
          ]
        },
        {
          "output_type": "stream",
          "name": "stderr",
          "text": [
            "\u001b[34m\u001b[1mwandb\u001b[0m: \u001b[33mWARNING\u001b[0m If you're specifying your api key in code, ensure this code is not shared publicly.\n",
            "\u001b[34m\u001b[1mwandb\u001b[0m: \u001b[33mWARNING\u001b[0m Consider setting the WANDB_API_KEY environment variable, or running `wandb login` from the command line.\n",
            "\u001b[34m\u001b[1mwandb\u001b[0m: No netrc file found, creating one.\n",
            "\u001b[34m\u001b[1mwandb\u001b[0m: Appending key for api.wandb.ai to your netrc file: /root/.netrc\n",
            "\u001b[34m\u001b[1mwandb\u001b[0m: Currently logged in as: \u001b[33mrombuski\u001b[0m (\u001b[33mrombuski-northeastern\u001b[0m) to \u001b[32mhttps://api.wandb.ai\u001b[0m. Use \u001b[1m`wandb login --relogin`\u001b[0m to force relogin\n"
          ]
        },
        {
          "output_type": "display_data",
          "data": {
            "text/plain": [
              "<IPython.core.display.HTML object>"
            ],
            "text/html": [
              "Tracking run with wandb version 0.19.9"
            ]
          },
          "metadata": {}
        },
        {
          "output_type": "display_data",
          "data": {
            "text/plain": [
              "<IPython.core.display.HTML object>"
            ],
            "text/html": [
              "Run data is saved locally in <code>/content/wandb/run-20250414_222020-fudlfj8g</code>"
            ]
          },
          "metadata": {}
        },
        {
          "output_type": "display_data",
          "data": {
            "text/plain": [
              "<IPython.core.display.HTML object>"
            ],
            "text/html": [
              "Syncing run <strong><a href='https://wandb.ai/rombuski-northeastern/huggingface/runs/fudlfj8g' target=\"_blank\">./results</a></strong> to <a href='https://wandb.ai/rombuski-northeastern/huggingface' target=\"_blank\">Weights & Biases</a> (<a href='https://wandb.me/developer-guide' target=\"_blank\">docs</a>)<br>"
            ]
          },
          "metadata": {}
        },
        {
          "output_type": "display_data",
          "data": {
            "text/plain": [
              "<IPython.core.display.HTML object>"
            ],
            "text/html": [
              " View project at <a href='https://wandb.ai/rombuski-northeastern/huggingface' target=\"_blank\">https://wandb.ai/rombuski-northeastern/huggingface</a>"
            ]
          },
          "metadata": {}
        },
        {
          "output_type": "display_data",
          "data": {
            "text/plain": [
              "<IPython.core.display.HTML object>"
            ],
            "text/html": [
              " View run at <a href='https://wandb.ai/rombuski-northeastern/huggingface/runs/fudlfj8g' target=\"_blank\">https://wandb.ai/rombuski-northeastern/huggingface/runs/fudlfj8g</a>"
            ]
          },
          "metadata": {}
        },
        {
          "output_type": "display_data",
          "data": {
            "text/plain": [
              "<IPython.core.display.HTML object>"
            ],
            "text/html": [
              "\n",
              "    <div>\n",
              "      \n",
              "      <progress value='593' max='4677' style='width:300px; height:20px; vertical-align: middle;'></progress>\n",
              "      [ 593/4677 00:43 < 05:00, 13.57 it/s, Epoch 0.38/3]\n",
              "    </div>\n",
              "    <table border=\"1\" class=\"dataframe\">\n",
              "  <thead>\n",
              " <tr style=\"text-align: left;\">\n",
              "      <th>Epoch</th>\n",
              "      <th>Training Loss</th>\n",
              "      <th>Validation Loss</th>\n",
              "    </tr>\n",
              "  </thead>\n",
              "  <tbody>\n",
              "  </tbody>\n",
              "</table><p>"
            ]
          },
          "metadata": {}
        },
        {
          "output_type": "error",
          "ename": "KeyboardInterrupt",
          "evalue": "",
          "traceback": [
            "\u001b[0;31m---------------------------------------------------------------------------\u001b[0m",
            "\u001b[0;31mKeyboardInterrupt\u001b[0m                         Traceback (most recent call last)",
            "\u001b[0;32m<ipython-input-23-611da5df341c>\u001b[0m in \u001b[0;36m<cell line: 0>\u001b[0;34m()\u001b[0m\n\u001b[1;32m     27\u001b[0m \u001b[0;34m\u001b[0m\u001b[0m\n\u001b[1;32m     28\u001b[0m \u001b[0;31m# Train the model\u001b[0m\u001b[0;34m\u001b[0m\u001b[0;34m\u001b[0m\u001b[0m\n\u001b[0;32m---> 29\u001b[0;31m \u001b[0mtrainer\u001b[0m\u001b[0;34m.\u001b[0m\u001b[0mtrain\u001b[0m\u001b[0;34m(\u001b[0m\u001b[0;34m)\u001b[0m\u001b[0;34m\u001b[0m\u001b[0;34m\u001b[0m\u001b[0m\n\u001b[0m",
            "\u001b[0;32m/usr/local/lib/python3.11/dist-packages/transformers/trainer.py\u001b[0m in \u001b[0;36mtrain\u001b[0;34m(self, resume_from_checkpoint, trial, ignore_keys_for_eval, **kwargs)\u001b[0m\n\u001b[1;32m   2243\u001b[0m                 \u001b[0mhf_hub_utils\u001b[0m\u001b[0;34m.\u001b[0m\u001b[0menable_progress_bars\u001b[0m\u001b[0;34m(\u001b[0m\u001b[0;34m)\u001b[0m\u001b[0;34m\u001b[0m\u001b[0;34m\u001b[0m\u001b[0m\n\u001b[1;32m   2244\u001b[0m         \u001b[0;32melse\u001b[0m\u001b[0;34m:\u001b[0m\u001b[0;34m\u001b[0m\u001b[0;34m\u001b[0m\u001b[0m\n\u001b[0;32m-> 2245\u001b[0;31m             return inner_training_loop(\n\u001b[0m\u001b[1;32m   2246\u001b[0m                 \u001b[0margs\u001b[0m\u001b[0;34m=\u001b[0m\u001b[0margs\u001b[0m\u001b[0;34m,\u001b[0m\u001b[0;34m\u001b[0m\u001b[0;34m\u001b[0m\u001b[0m\n\u001b[1;32m   2247\u001b[0m                 \u001b[0mresume_from_checkpoint\u001b[0m\u001b[0;34m=\u001b[0m\u001b[0mresume_from_checkpoint\u001b[0m\u001b[0;34m,\u001b[0m\u001b[0;34m\u001b[0m\u001b[0;34m\u001b[0m\u001b[0m\n",
            "\u001b[0;32m/usr/local/lib/python3.11/dist-packages/transformers/trainer.py\u001b[0m in \u001b[0;36m_inner_training_loop\u001b[0;34m(self, batch_size, args, resume_from_checkpoint, trial, ignore_keys_for_eval)\u001b[0m\n\u001b[1;32m   2512\u001b[0m                 \u001b[0mupdate_step\u001b[0m \u001b[0;34m+=\u001b[0m \u001b[0;36m1\u001b[0m\u001b[0;34m\u001b[0m\u001b[0;34m\u001b[0m\u001b[0m\n\u001b[1;32m   2513\u001b[0m                 \u001b[0mnum_batches\u001b[0m \u001b[0;34m=\u001b[0m \u001b[0margs\u001b[0m\u001b[0;34m.\u001b[0m\u001b[0mgradient_accumulation_steps\u001b[0m \u001b[0;32mif\u001b[0m \u001b[0mupdate_step\u001b[0m \u001b[0;34m!=\u001b[0m \u001b[0;34m(\u001b[0m\u001b[0mtotal_updates\u001b[0m \u001b[0;34m-\u001b[0m \u001b[0;36m1\u001b[0m\u001b[0;34m)\u001b[0m \u001b[0;32melse\u001b[0m \u001b[0mremainder\u001b[0m\u001b[0;34m\u001b[0m\u001b[0;34m\u001b[0m\u001b[0m\n\u001b[0;32m-> 2514\u001b[0;31m                 \u001b[0mbatch_samples\u001b[0m\u001b[0;34m,\u001b[0m \u001b[0mnum_items_in_batch\u001b[0m \u001b[0;34m=\u001b[0m \u001b[0mself\u001b[0m\u001b[0;34m.\u001b[0m\u001b[0mget_batch_samples\u001b[0m\u001b[0;34m(\u001b[0m\u001b[0mepoch_iterator\u001b[0m\u001b[0;34m,\u001b[0m \u001b[0mnum_batches\u001b[0m\u001b[0;34m,\u001b[0m \u001b[0margs\u001b[0m\u001b[0;34m.\u001b[0m\u001b[0mdevice\u001b[0m\u001b[0;34m)\u001b[0m\u001b[0;34m\u001b[0m\u001b[0;34m\u001b[0m\u001b[0m\n\u001b[0m\u001b[1;32m   2515\u001b[0m                 \u001b[0;32mfor\u001b[0m \u001b[0mi\u001b[0m\u001b[0;34m,\u001b[0m \u001b[0minputs\u001b[0m \u001b[0;32min\u001b[0m \u001b[0menumerate\u001b[0m\u001b[0;34m(\u001b[0m\u001b[0mbatch_samples\u001b[0m\u001b[0;34m)\u001b[0m\u001b[0;34m:\u001b[0m\u001b[0;34m\u001b[0m\u001b[0;34m\u001b[0m\u001b[0m\n\u001b[1;32m   2516\u001b[0m                     \u001b[0mstep\u001b[0m \u001b[0;34m+=\u001b[0m \u001b[0;36m1\u001b[0m\u001b[0;34m\u001b[0m\u001b[0;34m\u001b[0m\u001b[0m\n",
            "\u001b[0;32m/usr/local/lib/python3.11/dist-packages/transformers/trainer.py\u001b[0m in \u001b[0;36mget_batch_samples\u001b[0;34m(self, epoch_iterator, num_batches, device)\u001b[0m\n\u001b[1;32m   5241\u001b[0m         \u001b[0;32mfor\u001b[0m \u001b[0m_\u001b[0m \u001b[0;32min\u001b[0m \u001b[0mrange\u001b[0m\u001b[0;34m(\u001b[0m\u001b[0mnum_batches\u001b[0m\u001b[0;34m)\u001b[0m\u001b[0;34m:\u001b[0m\u001b[0;34m\u001b[0m\u001b[0;34m\u001b[0m\u001b[0m\n\u001b[1;32m   5242\u001b[0m             \u001b[0;32mtry\u001b[0m\u001b[0;34m:\u001b[0m\u001b[0;34m\u001b[0m\u001b[0;34m\u001b[0m\u001b[0m\n\u001b[0;32m-> 5243\u001b[0;31m                 \u001b[0mbatch_samples\u001b[0m\u001b[0;34m.\u001b[0m\u001b[0mappend\u001b[0m\u001b[0;34m(\u001b[0m\u001b[0mnext\u001b[0m\u001b[0;34m(\u001b[0m\u001b[0mepoch_iterator\u001b[0m\u001b[0;34m)\u001b[0m\u001b[0;34m)\u001b[0m\u001b[0;34m\u001b[0m\u001b[0;34m\u001b[0m\u001b[0m\n\u001b[0m\u001b[1;32m   5244\u001b[0m             \u001b[0;32mexcept\u001b[0m \u001b[0mStopIteration\u001b[0m\u001b[0;34m:\u001b[0m\u001b[0;34m\u001b[0m\u001b[0;34m\u001b[0m\u001b[0m\n\u001b[1;32m   5245\u001b[0m                 \u001b[0;32mbreak\u001b[0m\u001b[0;34m\u001b[0m\u001b[0;34m\u001b[0m\u001b[0m\n",
            "\u001b[0;32m/usr/local/lib/python3.11/dist-packages/accelerate/data_loader.py\u001b[0m in \u001b[0;36m__iter__\u001b[0;34m(self)\u001b[0m\n\u001b[1;32m    573\u001b[0m                 \u001b[0;31m# But we still move it to the device so it is done before `StopIteration` is reached\u001b[0m\u001b[0;34m\u001b[0m\u001b[0;34m\u001b[0m\u001b[0m\n\u001b[1;32m    574\u001b[0m                 \u001b[0;32mif\u001b[0m \u001b[0mself\u001b[0m\u001b[0;34m.\u001b[0m\u001b[0mdevice\u001b[0m \u001b[0;32mis\u001b[0m \u001b[0;32mnot\u001b[0m \u001b[0;32mNone\u001b[0m\u001b[0;34m:\u001b[0m\u001b[0;34m\u001b[0m\u001b[0;34m\u001b[0m\u001b[0m\n\u001b[0;32m--> 575\u001b[0;31m                     \u001b[0mcurrent_batch\u001b[0m \u001b[0;34m=\u001b[0m \u001b[0msend_to_device\u001b[0m\u001b[0;34m(\u001b[0m\u001b[0mcurrent_batch\u001b[0m\u001b[0;34m,\u001b[0m \u001b[0mself\u001b[0m\u001b[0;34m.\u001b[0m\u001b[0mdevice\u001b[0m\u001b[0;34m,\u001b[0m \u001b[0mnon_blocking\u001b[0m\u001b[0;34m=\u001b[0m\u001b[0mself\u001b[0m\u001b[0;34m.\u001b[0m\u001b[0m_non_blocking\u001b[0m\u001b[0;34m)\u001b[0m\u001b[0;34m\u001b[0m\u001b[0;34m\u001b[0m\u001b[0m\n\u001b[0m\u001b[1;32m    576\u001b[0m                 \u001b[0mself\u001b[0m\u001b[0;34m.\u001b[0m\u001b[0m_update_state_dict\u001b[0m\u001b[0;34m(\u001b[0m\u001b[0;34m)\u001b[0m\u001b[0;34m\u001b[0m\u001b[0;34m\u001b[0m\u001b[0m\n\u001b[1;32m    577\u001b[0m                 \u001b[0mnext_batch\u001b[0m \u001b[0;34m=\u001b[0m \u001b[0mnext\u001b[0m\u001b[0;34m(\u001b[0m\u001b[0mdataloader_iter\u001b[0m\u001b[0;34m)\u001b[0m\u001b[0;34m\u001b[0m\u001b[0;34m\u001b[0m\u001b[0m\n",
            "\u001b[0;32m/usr/local/lib/python3.11/dist-packages/accelerate/utils/operations.py\u001b[0m in \u001b[0;36msend_to_device\u001b[0;34m(tensor, device, non_blocking, skip_keys)\u001b[0m\n\u001b[1;32m    181\u001b[0m             \u001b[0mskip_keys\u001b[0m \u001b[0;34m=\u001b[0m \u001b[0;34m[\u001b[0m\u001b[0;34m]\u001b[0m\u001b[0;34m\u001b[0m\u001b[0;34m\u001b[0m\u001b[0m\n\u001b[1;32m    182\u001b[0m         return type(tensor)(\n\u001b[0;32m--> 183\u001b[0;31m             {\n\u001b[0m\u001b[1;32m    184\u001b[0m                 \u001b[0mk\u001b[0m\u001b[0;34m:\u001b[0m \u001b[0mt\u001b[0m \u001b[0;32mif\u001b[0m \u001b[0mk\u001b[0m \u001b[0;32min\u001b[0m \u001b[0mskip_keys\u001b[0m \u001b[0;32melse\u001b[0m \u001b[0msend_to_device\u001b[0m\u001b[0;34m(\u001b[0m\u001b[0mt\u001b[0m\u001b[0;34m,\u001b[0m \u001b[0mdevice\u001b[0m\u001b[0;34m,\u001b[0m \u001b[0mnon_blocking\u001b[0m\u001b[0;34m=\u001b[0m\u001b[0mnon_blocking\u001b[0m\u001b[0;34m,\u001b[0m \u001b[0mskip_keys\u001b[0m\u001b[0;34m=\u001b[0m\u001b[0mskip_keys\u001b[0m\u001b[0;34m)\u001b[0m\u001b[0;34m\u001b[0m\u001b[0;34m\u001b[0m\u001b[0m\n\u001b[1;32m    185\u001b[0m                 \u001b[0;32mfor\u001b[0m \u001b[0mk\u001b[0m\u001b[0;34m,\u001b[0m \u001b[0mt\u001b[0m \u001b[0;32min\u001b[0m \u001b[0mtensor\u001b[0m\u001b[0;34m.\u001b[0m\u001b[0mitems\u001b[0m\u001b[0;34m(\u001b[0m\u001b[0;34m)\u001b[0m\u001b[0;34m\u001b[0m\u001b[0;34m\u001b[0m\u001b[0m\n",
            "\u001b[0;32m/usr/local/lib/python3.11/dist-packages/accelerate/utils/operations.py\u001b[0m in \u001b[0;36m<dictcomp>\u001b[0;34m(.0)\u001b[0m\n\u001b[1;32m    182\u001b[0m         return type(tensor)(\n\u001b[1;32m    183\u001b[0m             {\n\u001b[0;32m--> 184\u001b[0;31m                 \u001b[0mk\u001b[0m\u001b[0;34m:\u001b[0m \u001b[0mt\u001b[0m \u001b[0;32mif\u001b[0m \u001b[0mk\u001b[0m \u001b[0;32min\u001b[0m \u001b[0mskip_keys\u001b[0m \u001b[0;32melse\u001b[0m \u001b[0msend_to_device\u001b[0m\u001b[0;34m(\u001b[0m\u001b[0mt\u001b[0m\u001b[0;34m,\u001b[0m \u001b[0mdevice\u001b[0m\u001b[0;34m,\u001b[0m \u001b[0mnon_blocking\u001b[0m\u001b[0;34m=\u001b[0m\u001b[0mnon_blocking\u001b[0m\u001b[0;34m,\u001b[0m \u001b[0mskip_keys\u001b[0m\u001b[0;34m=\u001b[0m\u001b[0mskip_keys\u001b[0m\u001b[0;34m)\u001b[0m\u001b[0;34m\u001b[0m\u001b[0;34m\u001b[0m\u001b[0m\n\u001b[0m\u001b[1;32m    185\u001b[0m                 \u001b[0;32mfor\u001b[0m \u001b[0mk\u001b[0m\u001b[0;34m,\u001b[0m \u001b[0mt\u001b[0m \u001b[0;32min\u001b[0m \u001b[0mtensor\u001b[0m\u001b[0;34m.\u001b[0m\u001b[0mitems\u001b[0m\u001b[0;34m(\u001b[0m\u001b[0;34m)\u001b[0m\u001b[0;34m\u001b[0m\u001b[0;34m\u001b[0m\u001b[0m\n\u001b[1;32m    186\u001b[0m             }\n",
            "\u001b[0;32m/usr/local/lib/python3.11/dist-packages/accelerate/utils/operations.py\u001b[0m in \u001b[0;36msend_to_device\u001b[0;34m(tensor, device, non_blocking, skip_keys)\u001b[0m\n\u001b[1;32m    153\u001b[0m             \u001b[0mdevice\u001b[0m \u001b[0;34m=\u001b[0m \u001b[0;34m\"xpu:0\"\u001b[0m\u001b[0;34m\u001b[0m\u001b[0;34m\u001b[0m\u001b[0m\n\u001b[1;32m    154\u001b[0m         \u001b[0;32mtry\u001b[0m\u001b[0;34m:\u001b[0m\u001b[0;34m\u001b[0m\u001b[0;34m\u001b[0m\u001b[0m\n\u001b[0;32m--> 155\u001b[0;31m             \u001b[0;32mreturn\u001b[0m \u001b[0mtensor\u001b[0m\u001b[0;34m.\u001b[0m\u001b[0mto\u001b[0m\u001b[0;34m(\u001b[0m\u001b[0mdevice\u001b[0m\u001b[0;34m,\u001b[0m \u001b[0mnon_blocking\u001b[0m\u001b[0;34m=\u001b[0m\u001b[0mnon_blocking\u001b[0m\u001b[0;34m)\u001b[0m\u001b[0;34m\u001b[0m\u001b[0;34m\u001b[0m\u001b[0m\n\u001b[0m\u001b[1;32m    156\u001b[0m         \u001b[0;32mexcept\u001b[0m \u001b[0mTypeError\u001b[0m\u001b[0;34m:\u001b[0m  \u001b[0;31m# .to() doesn't accept non_blocking as kwarg\u001b[0m\u001b[0;34m\u001b[0m\u001b[0;34m\u001b[0m\u001b[0m\n\u001b[1;32m    157\u001b[0m             \u001b[0;32mreturn\u001b[0m \u001b[0mtensor\u001b[0m\u001b[0;34m.\u001b[0m\u001b[0mto\u001b[0m\u001b[0;34m(\u001b[0m\u001b[0mdevice\u001b[0m\u001b[0;34m)\u001b[0m\u001b[0;34m\u001b[0m\u001b[0;34m\u001b[0m\u001b[0m\n",
            "\u001b[0;31mKeyboardInterrupt\u001b[0m: "
          ]
        }
      ]
    },
    {
      "cell_type": "code",
      "source": [
        "# Function to predict bias score for new text\n",
        "def predict_bias(text, model, tokenizer, device='cuda' if torch.cuda.is_available() else 'cpu'):\n",
        "    # Move model to the specified device\n",
        "    model.to(device)\n",
        "\n",
        "    # Tokenize the input text\n",
        "    inputs = tokenizer(text, return_tensors=\"pt\", padding=True, truncation=True)\n",
        "\n",
        "    # Move input tensors to the same device as the model\n",
        "    inputs = {k: v.to(device) for k, v in inputs.items()}\n",
        "\n",
        "    # Get prediction\n",
        "    with torch.no_grad():\n",
        "        outputs = model(**inputs)\n",
        "\n",
        "    return outputs.logits.item()  # Returns a score between -1 and 1\n",
        "\n",
        "# Example usage\n",
        "test_texts = [\n",
        "    \"Abortion should be free\",\n",
        "    \"Lower taxes and less regulation will stimulate economic growth.\",\n",
        "    \"Healthcare should be a basic right for all citizens.\"\n",
        "]\n",
        "\n",
        "\n",
        "# Set device\n",
        "device = 'cuda' if torch.cuda.is_available() else 'cpu'\n",
        "print(f\"Using device: {device}\")\n",
        "\n",
        "for text in test_texts:\n",
        "    score = predict_bias(text, model, tokenizer)\n",
        "    print(f\"Text: {text}\")\n",
        "    print(f\"Bias score: {score:.2f}\")\n",
        "    print(f\"Political leaning: {'Left' if score < 0 else 'Right'}\")\n",
        "    print(\"-\" * 50)"
      ],
      "metadata": {
        "id": "6VdV65aWXUq0",
        "colab": {
          "base_uri": "https://localhost:8080/"
        },
        "outputId": "525aba14-4af4-418e-e135-531ee4e94d68"
      },
      "execution_count": null,
      "outputs": [
        {
          "output_type": "stream",
          "name": "stdout",
          "text": [
            "Using device: cuda\n",
            "Text: Abortion should be free\n",
            "Bias score: -1.02\n",
            "Political leaning: Left\n",
            "--------------------------------------------------\n",
            "Text: Lower taxes and less regulation will stimulate economic growth.\n",
            "Bias score: 0.99\n",
            "Political leaning: Right\n",
            "--------------------------------------------------\n",
            "Text: Healthcare should be a basic right for all citizens.\n",
            "Bias score: -1.03\n",
            "Political leaning: Left\n",
            "--------------------------------------------------\n"
          ]
        }
      ]
    },
    {
      "cell_type": "code",
      "source": [
        "# def compute_accuracy(model, data_loader):\n",
        "#     model.eval()\n",
        "#     correct = 0\n",
        "#     total = 0\n",
        "#     total_loss = 0\n",
        "#     criterion = nn.MSELoss()\n",
        "\n",
        "#     with torch.no_grad():\n",
        "#         for inputs, labels in data_loader:\n",
        "#             inputs, labels = inputs.to(device), labels.to(device)\n",
        "\n",
        "#             outputs = model(inputs).squeeze()\n",
        "\n",
        "#             # Convert regression output to -1 or 1\n",
        "#             predictions = torch.where(outputs >= 0, torch.tensor(1.0, device=device), torch.tensor(-1.0, device=device))\n",
        "\n",
        "#             correct += (predictions == labels).sum().item()\n",
        "#             total += labels.size(0)\n",
        "\n",
        "#             loss = criterion(outputs, labels)\n",
        "#             total_loss += loss.item()\n",
        "\n",
        "#     accuracy = correct / total * 100\n",
        "#     return total_loss / len(data_loader), accuracy\n",
        "\n",
        "\n",
        "# # Compute validation loss & accuracy\n",
        "# val_loss, val_accuracy = compute_accuracy(model, val_loader)\n",
        "# print(f\"Validation Loss: {val_loss:.4f}\")\n",
        "# print(f\"Validation Accuracy: {val_accuracy:.2f}%\")"
      ],
      "metadata": {
        "id": "p1gA8mwIXN3w"
      },
      "execution_count": null,
      "outputs": []
    },
    {
      "cell_type": "code",
      "source": [
        "# === Part 1: Logistic Regression Classifier on TF-IDF ===\n",
        "import pandas as pd\n",
        "from sklearn.model_selection import train_test_split\n",
        "from sklearn.feature_extraction.text import TfidfVectorizer\n",
        "from sklearn.linear_model import LogisticRegression\n",
        "from sklearn.metrics import classification_report\n",
        "\n",
        "# For demonstration, assume df_combined is already defined and contains columns 'text' and 'bias_score'\n",
        "# Create a binary label: left bias (<0) maps to 0 and right bias (>=0) maps to 1.\n",
        "df_combined['binary_label'] = df_combined['bias_score'].apply(lambda x: 0 if x < 0 else 1)\n",
        "\n",
        "# Split the data into train and validation sets\n",
        "train_df_lr, val_df_lr = train_test_split(df_combined, test_size=0.1, random_state=42)\n",
        "\n",
        "# Initialize the TF-IDF vectorizer (this lowercases text and removes English stopwords)\n",
        "vectorizer = TfidfVectorizer(lowercase=True, stop_words='english')\n",
        "X_train = vectorizer.fit_transform(train_df_lr['text'])\n",
        "X_val = vectorizer.transform(val_df_lr['text'])\n",
        "y_train = train_df_lr['binary_label']\n",
        "y_val = val_df_lr['binary_label']  # Use the validation labels here!\n",
        "\n",
        "# Train the logistic regression classifier\n",
        "lr_model = LogisticRegression(max_iter=200)\n",
        "lr_model.fit(X_train, y_train)\n",
        "\n",
        "# Predict and evaluate on the validation set\n",
        "y_pred = lr_model.predict(X_val)\n",
        "print(\"Logistic Regression Classification Report:\")\n",
        "print(classification_report(y_val, y_pred))\n"
      ],
      "metadata": {
        "colab": {
          "base_uri": "https://localhost:8080/"
        },
        "id": "o4FA3My-eHQT",
        "outputId": "fa78ef1a-dead-4c94-b246-d7c789b4b763"
      },
      "execution_count": null,
      "outputs": [
        {
          "output_type": "stream",
          "name": "stdout",
          "text": [
            "Logistic Regression Classification Report:\n",
            "              precision    recall  f1-score   support\n",
            "\n",
            "           0       0.97      0.96      0.97      1374\n",
            "           1       0.96      0.97      0.97      1397\n",
            "\n",
            "    accuracy                           0.97      2771\n",
            "   macro avg       0.97      0.97      0.97      2771\n",
            "weighted avg       0.97      0.97      0.97      2771\n",
            "\n"
          ]
        }
      ]
    },
    {
      "cell_type": "code",
      "source": [
        "from sklearn.metrics import confusion_matrix\n",
        "import matplotlib.pyplot as plt\n",
        "import seaborn as sns\n",
        "\n",
        "# Compute the confusion matrix\n",
        "conf_matrix = confusion_matrix(y_val, y_pred)\n",
        "\n",
        "# Print out the confusion matrix\n",
        "print(\"Confusion Matrix:\")\n",
        "print(conf_matrix)\n",
        "\n",
        "# Optionally, you can also plot the confusion matrix for a visual perspective:\n",
        "plt.figure(figsize=(5, 4))\n",
        "sns.heatmap(conf_matrix, annot=True, fmt=\"d\", cmap=\"Blues\",\n",
        "            xticklabels=[\"Predicted Left (0)\", \"Predicted Right (1)\"],\n",
        "            yticklabels=[\"Actual Left (0)\", \"Actual Right (1)\"])\n",
        "plt.ylabel(\"True label\")\n",
        "plt.xlabel(\"Predicted label\")\n",
        "plt.title(\"Confusion Matrix\")\n",
        "plt.show()\n"
      ],
      "metadata": {
        "colab": {
          "base_uri": "https://localhost:8080/",
          "height": 464
        },
        "id": "yJfoS6YppaQH",
        "outputId": "fb7040c1-174a-4ae0-f1b9-a3454ce51fe0"
      },
      "execution_count": null,
      "outputs": [
        {
          "output_type": "stream",
          "name": "stdout",
          "text": [
            "Confusion Matrix:\n",
            "[[1321   53]\n",
            " [  36 1361]]\n"
          ]
        },
        {
          "output_type": "display_data",
          "data": {
            "text/plain": [
              "<Figure size 500x400 with 2 Axes>"
            ],
            "image/png": "[encoded data removed]"
          },
          "metadata": {}
        }
      ]
    },
    {
      "cell_type": "code",
      "source": [
        "# === Part 2: BM25 Relevance Scoring ===\n",
        "# Install rank_bm25 if needed\n",
        "!pip install rank_bm25\n",
        "\n",
        "import re\n",
        "import numpy as np\n",
        "from rank_bm25 import BM25Okapi\n",
        "\n",
        "# Define a simple preprocessing function to remove punctuation and lowercase the text\n",
        "def preprocess(text):\n",
        "    text = re.sub(r'[^\\w\\s]', '', text.lower())\n",
        "    return text.split()\n",
        "\n",
        "# Build the BM25 corpus: tokenize each document in df_combined\n",
        "corpus = [preprocess(doc) for doc in df_combined['text']]\n",
        "bm25 = BM25Okapi(corpus)\n",
        "\n",
        "# For a sample query, preprocess it similarly:\n",
        "query = \"healthcare for all citizens\"\n",
        "query_tokens = preprocess(query)\n",
        "\n",
        "# Calculate BM25 relevance scores for each document in the corpus\n",
        "relevance_scores = bm25.get_scores(query_tokens)\n",
        "print(\"BM25 relevance scores computed.\")"
      ],
      "metadata": {
        "colab": {
          "base_uri": "https://localhost:8080/"
        },
        "id": "82nlT-gKeHZ7",
        "outputId": "e980c0b6-947d-4559-811d-d099db1f3ef0"
      },
      "execution_count": null,
      "outputs": [
        {
          "output_type": "stream",
          "name": "stdout",
          "text": [
            "Collecting rank_bm25\n",
            "  Downloading rank_bm25-0.2.2-py3-none-any.whl.metadata (3.2 kB)\n",
            "Requirement already satisfied: numpy in /usr/local/lib/python3.11/dist-packages (from rank_bm25) (2.0.2)\n",
            "Downloading rank_bm25-0.2.2-py3-none-any.whl (8.6 kB)\n",
            "Installing collected packages: rank_bm25\n",
            "Successfully installed rank_bm25-0.2.2\n",
            "BM25 relevance scores computed.\n"
          ]
        }
      ]
    },
    {
      "cell_type": "code",
      "source": [
        "# === Part 3: Combine Bias Confidence Scores and BM25 Scores for Ranking ===\n",
        "# Get the bias confidence scores from the logistic regression classifier:\n",
        "# Transform all documents using the TF-IDF vectorizer.\n",
        "X_full = vectorizer.transform(df_combined['text'])\n",
        "# Predict the probability of class '1' (right bias)\n",
        "predicted_probas = lr_model.predict_proba(X_full)[:, 1]\n",
        "\n",
        "# Map probabilities from [0, 1] to a signed bias score in [-1, 1]\n",
        "bias_scores = 2 * predicted_probas - 1\n",
        "\n",
        "# Convert relevance_scores to a NumPy array if it isn't already\n",
        "relevance_scores = np.array(relevance_scores)\n",
        "\n",
        "# Combine the scores (here we use multiplication as an example)\n",
        "final_scores = relevance_scores * bias_scores\n",
        "\n",
        "# Rank documents based on the combined final score (descending order)\n",
        "ranked_indices = np.argsort(final_scores)[::-1]\n",
        "\n",
        "# Display the top 10 ranked documents\n",
        "print(\"\\nTop 10 Ranked Documents:\")\n",
        "for i, idx in enumerate(ranked_indices[:10], start=1):\n",
        "    doc_text = df_combined.iloc[idx]['text'][:100].replace('\\n', ' ')  # show first 100 characters\n",
        "    print(f\"{i}. Score: {final_scores[idx]:.4f} | Excerpt: {doc_text}...\")"
      ],
      "metadata": {
        "colab": {
          "base_uri": "https://localhost:8080/"
        },
        "id": "sleIFP_Rgdni",
        "outputId": "2fb48abe-411e-420c-e907-26147be93039"
      },
      "execution_count": null,
      "outputs": [
        {
          "output_type": "stream",
          "name": "stdout",
          "text": [
            "\n",
            "Top 10 Ranked Documents:\n",
            "1. Score: 8.2660 | Excerpt: Citizens should be responsible for their own healthcare costs....\n",
            "2. Score: 8.1507 | Excerpt: Lowering taxes for all promotes economic growth, incentivizes investment, and benefits all citizens....\n",
            "3. Score: 7.8075 | Excerpt: Lower taxes for everyone stimulate economic growth and benefit all citizens...\n",
            "4. Score: 7.2539 | Excerpt: Free-market competition leads to innovation and affordable healthcare options for all....\n",
            "5. Score: 6.8919 | Excerpt: Free market competition leads to innovation and improves healthcare outcomes for all....\n",
            "6. Score: 6.8874 | Excerpt: Lowering taxes for the wealthy stimulates economic growth and benefits all citizens....\n",
            "7. Score: 6.7561 | Excerpt: Tax cuts for businesses and the wealthy stimulate economic growth and benefit all citizens....\n",
            "8. Score: 6.7025 | Excerpt: Lower taxes for the wealthy incentivize investment, job creation, and economic growth that benefits ...\n",
            "9. Score: 6.6848 | Excerpt: Lower taxes encourage economic growth and individual prosperity, benefiting all citizens....\n",
            "10. Score: 6.2012 | Excerpt: Lowering taxes on the wealthy promotes economic growth and benefits all citizens....\n"
          ]
        }
      ]
    },
    {
      "cell_type": "code",
      "source": [
        "import numpy as np\n",
        "\n",
        "def average_precision_at_k(relevance_scores, k):\n",
        "    \"\"\"Compute Average Precision at K for one query.\"\"\"\n",
        "    relevance_scores = np.array(relevance_scores)[:k]\n",
        "    num_relevant = np.sum(relevance_scores)\n",
        "    if num_relevant == 0:\n",
        "        return 0.0\n",
        "    cumulative_precision = [\n",
        "        np.sum(relevance_scores[:i+1]) / (i+1) for i in range(len(relevance_scores))\n",
        "    ]\n",
        "    return np.sum(cumulative_precision * relevance_scores) / num_relevant\n",
        "\n",
        "def mean_average_precision(relevance_scores_list, k=10):\n",
        "    \"\"\"Compute Mean Average Precision over multiple queries.\"\"\"\n",
        "    return np.mean([average_precision_at_k(scores, k) for scores in relevance_scores_list])\n",
        "\n",
        "def dcg_at_k(relevance_scores, k):\n",
        "    \"\"\"Compute Discounted Cumulative Gain at K.\"\"\"\n",
        "    relevance_scores = np.array(relevance_scores)[:k]\n",
        "    return np.sum(relevance_scores / np.log2(np.arange(2, len(relevance_scores) + 2)))\n",
        "\n",
        "def ndcg_at_k(relevance_scores, k):\n",
        "    \"\"\"Compute Normalized Discounted Cumulative Gain at K.\"\"\"\n",
        "    ideal_relevance = sorted(relevance_scores, reverse=True)  # highest scores first\n",
        "    return dcg_at_k(relevance_scores, k) / (dcg_at_k(ideal_relevance, k) + 1e-10)\n",
        "\n",
        "\n",
        "# === Sample Evaluation ===\n",
        "# For demonstration, suppose we have a list of queries.\n",
        "sample_queries = [\n",
        "    \"healthcare for all citizens\",\n",
        "    \"tax cuts for economic growth\",\n",
        "    \"environmental policy and climate change\"\n",
        "]\n",
        "\n",
        "# Here we define a helper function to get final ranking scores\n",
        "# using a combination strategy. This example assumes\n",
        "# we already have a BM25 instance (`bm25`), a trained TF-IDF vectorizer,\n",
        "# and a trained logistic regression model `lr_model`.\n",
        "\n",
        "def get_final_scores(query, combination_strategy='multiplicative', alpha=0.5, beta=0.5):\n",
        "    \"\"\"\n",
        "    Compute final ranking scores for the entire corpus given a query.\n",
        "\n",
        "    Parameters:\n",
        "    - query: str, the search query.\n",
        "    - combination_strategy: string, one of 'multiplicative', 'additive', or 'weighted'.\n",
        "    - alpha, beta: weights for the weighted sum combination.\n",
        "\n",
        "    Returns:\n",
        "    - final_scores: NumPy array of combined scores for each document.\n",
        "    \"\"\"\n",
        "    # Preprocess and compute BM25 scores for the query\n",
        "    query_tokens = preprocess(query)\n",
        "    bm25_scores = np.array(bm25.get_scores(query_tokens))\n",
        "\n",
        "    # Obtain bias confidence scores using the logistic regression classifier.\n",
        "    X_full = vectorizer.transform(df_combined['text'])\n",
        "    predicted_probas = lr_model.predict_proba(X_full)[:, 1]\n",
        "    # Map [0, 1] probability to [-1, 1]\n",
        "    bias_scores = 2 * predicted_probas - 1\n",
        "\n",
        "    if combination_strategy == 'multiplicative':\n",
        "        final_scores = bm25_scores * bias_scores\n",
        "    elif combination_strategy == 'additive':\n",
        "        final_scores = bm25_scores + bias_scores\n",
        "    elif combination_strategy == 'weighted':\n",
        "        # You can adjust alpha and beta to weight the relevance and bias scores\n",
        "        final_scores = alpha * bm25_scores + beta * bias_scores\n",
        "    else:\n",
        "        raise ValueError(\"Invalid combination strategy provided.\")\n",
        "\n",
        "    return final_scores\n",
        "\n",
        "\n",
        "# Assume we have some dummy ground truth relevance judgments for these queries.\n",
        "# For each query, create a list of relevance labels (1 for relevant, 0 for non-relevant).\n",
        "# In practice, replace these with your actual judgments.\n",
        "dummy_judgments = {\n",
        "    \"healthcare for all citizens\": [1 if i % 5 == 0 else 0 for i in range(len(df_combined))],\n",
        "    \"tax cuts for economic growth\": [1 if i % 7 == 0 else 0 for i in range(len(df_combined))],\n",
        "    \"environmental policy and climate change\": [1 if i % 11 == 0 else 0 for i in range(len(df_combined))]\n",
        "}\n",
        "\n",
        "# Evaluate each query\n",
        "map_scores = []\n",
        "ndcg_scores = []\n",
        "k = 10  # Evaluate MAP@10 and NDCG@10\n",
        "\n",
        "for query in sample_queries:\n",
        "    final_scores = get_final_scores(query, combination_strategy='multiplicative')\n",
        "    ranked_indices = np.argsort(final_scores)[::-1]\n",
        "\n",
        "    # Generate the relevance list for the ranked order\n",
        "    ranked_relevances = [dummy_judgments[query][idx] for idx in ranked_indices]\n",
        "\n",
        "    ap = average_precision_at_k(ranked_relevances, k)\n",
        "    ndcg = ndcg_at_k(ranked_relevances, k)\n",
        "    map_scores.append(ap)\n",
        "    ndcg_scores.append(ndcg)\n",
        "\n",
        "    print(f\"Query: '{query}'\")\n",
        "    print(f\"MAP@{k}: {ap:.4f}, NDCG@{k}: {ndcg:.4f}\\n\")\n",
        "\n",
        "print(f\"Mean MAP@{k}: {np.mean(map_scores):.4f}\")\n",
        "print(f\"Mean NDCG@{k}: {np.mean(ndcg_scores):.4f}\")\n"
      ],
      "metadata": {
        "colab": {
          "base_uri": "https://localhost:8080/"
        },
        "id": "wSI3iqnjgkKh",
        "outputId": "c5fa0671-0a38-473f-9d17-e6eede363169"
      },
      "execution_count": null,
      "outputs": [
        {
          "output_type": "stream",
          "name": "stdout",
          "text": [
            "Query: 'healthcare for all citizens'\n",
            "MAP@10: 0.2250, NDCG@10: 0.1584\n",
            "\n",
            "Query: 'tax cuts for economic growth'\n",
            "MAP@10: 0.1000, NDCG@10: 0.0636\n",
            "\n",
            "Query: 'environmental policy and climate change'\n",
            "MAP@10: 0.0000, NDCG@10: 0.0000\n",
            "\n",
            "Mean MAP@10: 0.1083\n",
            "Mean NDCG@10: 0.0740\n"
          ]
        }
      ]
    },
    {
      "cell_type": "code",
      "source": [
        "from sklearn.pipeline import Pipeline\n",
        "from sklearn.model_selection import GridSearchCV\n",
        "\n",
        "# Define a pipeline that first vectorizes and then applies logistic regression.\n",
        "pipeline = Pipeline([\n",
        "    ('tfidf', TfidfVectorizer(lowercase=True, stop_words='english')),\n",
        "    ('lr', LogisticRegression(max_iter=200))\n",
        "])\n",
        "\n",
        "# Define a parameter grid for hyperparameter tuning.\n",
        "param_grid = {\n",
        "    'tfidf__max_features': [None, 5000, 10000],\n",
        "    'lr__C': [0.1, 1, 10],\n",
        "    'lr__solver': ['lbfgs', 'liblinear']\n",
        "}\n",
        "\n",
        "# Initialize GridSearchCV\n",
        "grid_search = GridSearchCV(pipeline, param_grid, cv=3, scoring='accuracy', n_jobs=-1)\n",
        "grid_search.fit(train_df_lr['text'], train_df_lr['binary_label'])\n",
        "\n",
        "print(\"Best parameters found:\")\n",
        "print(grid_search.best_params_)\n",
        "print(\"Best training accuracy:\")\n",
        "print(grid_search.best_score_)\n",
        "\n",
        "# Use the best estimator for prediction on the validation set:\n",
        "best_model = grid_search.best_estimator_\n",
        "y_pred_gs = best_model.predict(val_df_lr['text'])\n",
        "print(\"Classification Report for Best Model:\")\n",
        "print(classification_report(val_df_lr['binary_label'], y_pred_gs))\n"
      ],
      "metadata": {
        "colab": {
          "base_uri": "https://localhost:8080/"
        },
        "id": "XB4VXNEyi6C5",
        "outputId": "fbba96f8-32bf-4f4d-9453-84bd09c08c47"
      },
      "execution_count": null,
      "outputs": [
        {
          "output_type": "stream",
          "name": "stdout",
          "text": [
            "Best parameters found:\n",
            "{'lr__C': 10, 'lr__solver': 'liblinear', 'tfidf__max_features': None}\n",
            "Best training accuracy:\n",
            "0.9792293195396767\n",
            "Classification Report for Best Model:\n",
            "              precision    recall  f1-score   support\n",
            "\n",
            "           0       0.97      0.97      0.97      1374\n",
            "           1       0.97      0.97      0.97      1397\n",
            "\n",
            "    accuracy                           0.97      2771\n",
            "   macro avg       0.97      0.97      0.97      2771\n",
            "weighted avg       0.97      0.97      0.97      2771\n",
            "\n"
          ]
        }
      ]
    },
    {
      "cell_type": "code",
      "source": [
        "# Example: Use weighted sum combination with alpha=0.6 (BM25 weight) and beta=0.4 (bias weight)\n",
        "final_scores_weighted = get_final_scores(\"healthcare for all citizens\", combination_strategy='weighted', alpha=0.6, beta=0.4)\n",
        "ranked_indices_weighted = np.argsort(final_scores_weighted)[::-1]\n",
        "\n",
        "print(\"\\nTop 10 Ranked Documents using Weighted Sum Combination:\")\n",
        "for i, idx in enumerate(ranked_indices_weighted[:10], start=1):\n",
        "    doc_text = df_combined.iloc[idx]['text'][:100].replace('\\n', ' ')\n",
        "    print(f\"{i}. Score: {final_scores_weighted[idx]:.4f} | Excerpt: {doc_text}...\")\n"
      ],
      "metadata": {
        "colab": {
          "base_uri": "https://localhost:8080/"
        },
        "id": "mDiBn5CgjMJt",
        "outputId": "f464c4ae-a259-43ef-d862-ba84e3da3943"
      },
      "execution_count": null,
      "outputs": [
        {
          "output_type": "stream",
          "name": "stdout",
          "text": [
            "\n",
            "Top 10 Ranked Documents using Weighted Sum Combination:\n",
            "1. Score: 7.5625 | Excerpt: Universal healthcare guarantees access to healthcare for all citizens....\n",
            "2. Score: 7.5419 | Excerpt: Government-funded healthcare ensures access to healthcare for all citizens....\n",
            "3. Score: 7.4485 | Excerpt: Government-funded healthcare leads to better healthcare outcomes for all citizens....\n",
            "4. Score: 7.4394 | Excerpt: Universal healthcare leads to better healthcare outcomes for all citizens....\n",
            "5. Score: 7.2844 | Excerpt: Universal healthcare ensures access to quality healthcare for all citizens....\n",
            "6. Score: 7.2844 | Excerpt: Universal healthcare ensures access to quality healthcare for all citizens....\n",
            "7. Score: 7.1960 | Excerpt: We should have universal healthcare for all citizens....\n",
            "8. Score: 7.1483 | Excerpt: We should provide free healthcare for all citizens....\n",
            "9. Score: 7.1483 | Excerpt: We should provide free healthcare for all citizens....\n",
            "10. Score: 7.1477 | Excerpt: Universal healthcare should be provided for all citizens....\n"
          ]
        }
      ]
    },
    {
      "cell_type": "code",
      "source": [
        "# For each sample query, print the top 10 ranked documents along with their BM25, bias, and final scores.\n",
        "def analyze_query(query, combination_strategy='multiplicative'):\n",
        "    query_tokens = preprocess(query)\n",
        "    bm25_scores = np.array(bm25.get_scores(query_tokens))\n",
        "\n",
        "    X_full = vectorizer.transform(df_combined['text'])\n",
        "    predicted_probas = lr_model.predict_proba(X_full)[:, 1]\n",
        "    bias_scores = 2 * predicted_probas - 1\n",
        "\n",
        "    if combination_strategy == 'multiplicative':\n",
        "        final_scores = bm25_scores * bias_scores\n",
        "    elif combination_strategy == 'additive':\n",
        "        final_scores = bm25_scores + bias_scores\n",
        "    elif combination_strategy == 'weighted':\n",
        "        final_scores = 0.6 * bm25_scores + 0.4 * bias_scores\n",
        "    else:\n",
        "        raise ValueError(\"Invalid combination strategy.\")\n",
        "\n",
        "    ranked_indices = np.argsort(final_scores)[::-1]\n",
        "    print(f\"\\nAnalysis for Query: '{query}'\")\n",
        "    print(\"{:<4} {:<10} {:<10} {:<10} {:<}\".format(\"Rank\", \"BM25\", \"Bias\", \"Final\", \"Text Excerpt\"))\n",
        "    for i, idx in enumerate(ranked_indices[:10], start=1):\n",
        "        bm25_sc = bm25_scores[idx]\n",
        "        bias_sc = bias_scores[idx]\n",
        "        final_sc = final_scores[idx]\n",
        "        text_excerpt = df_combined.iloc[idx]['text'][:80].replace('\\n', ' ')\n",
        "        print(f\"{i:<4} {bm25_sc:<10.4f} {bias_sc:<10.4f} {final_sc:<10.4f} {text_excerpt}\")\n",
        "\n",
        "# Analyze one of the sample queries\n",
        "analyze_query(\"tax cuts for economic growth\", combination_strategy='weighted')\n"
      ],
      "metadata": {
        "colab": {
          "base_uri": "https://localhost:8080/"
        },
        "id": "3DjWNqrTjUIT",
        "outputId": "c2a9f4a2-0823-4aa0-8c58-47c920fa9cd8"
      },
      "execution_count": null,
      "outputs": [
        {
          "output_type": "stream",
          "name": "stdout",
          "text": [
            "\n",
            "Analysis for Query: 'tax cuts for economic growth'\n",
            "Rank BM25       Bias       Final      Text Excerpt\n",
            "1    20.0596    0.7882     12.3510    Tax cuts for the wealthy stimulate economic growth.\n",
            "2    17.9310    0.8101     11.0827    Tax cuts for the wealthy stimulate economic growth and incentivize investment.\n",
            "3    17.9310    0.8067     11.0813    Tax cuts for the wealthy stimulate economic growth and benefit everyone.\n",
            "4    17.9310    0.8067     11.0813    Tax cuts for the wealthy stimulate economic growth and benefit everyone\n",
            "5    17.9310    0.8067     11.0813    Tax cuts for the wealthy stimulate economic growth and benefit everyone.\n",
            "6    17.3185    0.9244     10.7608    Tax cuts for the wealthy encourage investment, job creation, and economic growth\n",
            "7    17.3185    0.9010     10.7515    Tax cuts for the wealthy stimulate economic growth and incentivize job creation.\n",
            "8    16.7464    0.7099     10.3318    Tax cuts for the wealthy stimulate economic growth and benefit all income levels\n",
            "9    16.7464    0.7099     10.3318    Tax cuts for the wealthy stimulate economic growth and benefit all income levels\n",
            "10   16.5466    0.9112     10.2924    Corporate tax cuts stimulate economic growth and lead to job creation\n"
          ]
        }
      ]
    },
    {
      "cell_type": "code",
      "source": [],
      "metadata": {
        "id": "q0TaB17FjVrB"
      },
      "execution_count": null,
      "outputs": []
    },
    {
      "cell_type": "code",
      "source": [],
      "metadata": {
        "id": "mVvrSF3kjVz6"
      },
      "execution_count": null,
      "outputs": []
    }
  ],
  "metadata": {
    "language_info": {
      "name": "python"
    },
    "colab": {
      "provenance": [],
      "toc_visible": true,
      "gpuType": "T4",
      "include_colab_link": true
    },
    "kernelspec": {
      "name": "python3",
      "display_name": "Python 3"
    },
    "accelerator": "GPU"
  },
  "nbformat": 4,
  "nbformat_minor": 0
}