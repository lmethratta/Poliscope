{
 "cells": [
  {
   "cell_type": "code",
   "execution_count": null,
   "metadata": {
    "vscode": {
     "languageId": "plaintext"
    }
   },
   "outputs": [],
   "source": [
    "from datasets import load_dataset\n",
    "from transformers import AutoTokenizer, AutoModelForSequenceClassification, Trainer, TrainingArguments\n",
    "import torch\n",
    "\n",
    "# Load dataset\n",
    "dataset = load_dataset(\"wwbrannon/twinviews-13k\")\n",
    "\n",
    "# Convert dataset to Pandas\n",
    "import pandas as pd\n",
    "df = pd.DataFrame(dataset['train'])\n",
    "\n",
    "# Convert statements into a regression dataset\n",
    "df_left = df[['left']].rename(columns={'left': 'text'})\n",
    "df_left['bias_score'] = -1  # Left = -1\n",
    "\n",
    "df_right = df[['right']].rename(columns={'right': 'text'})\n",
    "df_right['bias_score'] = 1  # Right = +1\n",
    "\n",
    "df_combined = pd.concat([df_left, df_right]).sample(frac=1).reset_index(drop=True)\n",
    "\n",
    "# Tokenization\n",
    "MODEL_NAME = \"distilbert-base-uncased\"\n",
    "tokenizer = AutoTokenizer.from_pretrained(MODEL_NAME)\n",
    "\n",
    "train_encodings = tokenizer(df_combined['text'].tolist(), truncation=True, padding=True, max_length=512, return_tensors=\"pt\")\n",
    "labels = torch.tensor(df_combined['bias_score'].values, dtype=torch.float32)"
   ]
  }
 ],
 "metadata": {
  "language_info": {
   "name": "python"
  }
 },
 "nbformat": 4,
 "nbformat_minor": 2
}
